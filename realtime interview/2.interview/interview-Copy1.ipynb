{
 "cells": [
  {
   "cell_type": "code",
   "execution_count": null,
   "id": "912725fc",
   "metadata": {},
   "outputs": [],
   "source": [
    "pip install auto-sklearn"
   ]
  },
  {
   "cell_type": "code",
   "execution_count": 1,
   "id": "d3099216",
   "metadata": {},
   "outputs": [
    {
     "ename": "ModuleNotFoundError",
     "evalue": "No module named 'autosklearn'",
     "output_type": "error",
     "traceback": [
      "\u001b[1;31m---------------------------------------------------------------------------\u001b[0m",
      "\u001b[1;31mModuleNotFoundError\u001b[0m                       Traceback (most recent call last)",
      "\u001b[1;32m~\\AppData\\Local\\Temp/ipykernel_16872/902668671.py\u001b[0m in \u001b[0;36m<module>\u001b[1;34m\u001b[0m\n\u001b[1;32m----> 1\u001b[1;33m \u001b[1;32mimport\u001b[0m \u001b[0mautosklearn\u001b[0m\u001b[1;33m.\u001b[0m\u001b[0mregression\u001b[0m\u001b[1;33m\u001b[0m\u001b[1;33m\u001b[0m\u001b[0m\n\u001b[0m",
      "\u001b[1;31mModuleNotFoundError\u001b[0m: No module named 'autosklearn'"
     ]
    }
   ],
   "source": [
    "import autosklearn.regression"
   ]
  },
  {
   "cell_type": "code",
   "execution_count": 7,
   "id": "e924335d",
   "metadata": {},
   "outputs": [],
   "source": [
    "import pandas as pd      \n",
    "import numpy as np \n",
    "import matplotlib.pyplot as plt\n",
    "import seaborn as sns\n",
    "from sklearn.preprocessing import StandardScaler, MinMaxScaler, RobustScaler\n",
    "from sklearn.metrics import mean_squared_error, mean_absolute_error, r2_score\n",
    "from sklearn.model_selection import train_test_split\n",
    "\n",
    "from scipy.stats import skew\n",
    "\n",
    "from sklearn.model_selection import cross_validate, cross_val_score\n",
    "import warnings\n",
    "warnings.filterwarnings('ignore')\n",
    "plt.rcParams[\"figure.figsize\"] = (10,6)\n",
    "pd.set_option('display.max_columns', 500)\n",
    "pd.set_option('display.max_rows', 500)\n",
    "pd.options.display.float_format = '{:.3f}'.format"
   ]
  },
  {
   "cell_type": "code",
   "execution_count": 2,
   "id": "4f79aba0",
   "metadata": {},
   "outputs": [],
   "source": [
    "df = pd.read_csv(\"health_train.csv\")"
   ]
  },
  {
   "cell_type": "code",
   "execution_count": 3,
   "id": "16f32ff9",
   "metadata": {},
   "outputs": [
    {
     "data": {
      "text/html": [
       "<div>\n",
       "<style scoped>\n",
       "    .dataframe tbody tr th:only-of-type {\n",
       "        vertical-align: middle;\n",
       "    }\n",
       "\n",
       "    .dataframe tbody tr th {\n",
       "        vertical-align: top;\n",
       "    }\n",
       "\n",
       "    .dataframe thead th {\n",
       "        text-align: right;\n",
       "    }\n",
       "</style>\n",
       "<table border=\"1\" class=\"dataframe\">\n",
       "  <thead>\n",
       "    <tr style=\"text-align: right;\">\n",
       "      <th></th>\n",
       "      <th>age</th>\n",
       "      <th>sex</th>\n",
       "      <th>bmi</th>\n",
       "      <th>smoker</th>\n",
       "      <th>region</th>\n",
       "      <th>children</th>\n",
       "      <th>charges</th>\n",
       "    </tr>\n",
       "  </thead>\n",
       "  <tbody>\n",
       "    <tr>\n",
       "      <th>0</th>\n",
       "      <td>21.000</td>\n",
       "      <td>male</td>\n",
       "      <td>25.745</td>\n",
       "      <td>no</td>\n",
       "      <td>northeast</td>\n",
       "      <td>2</td>\n",
       "      <td>3279.869</td>\n",
       "    </tr>\n",
       "    <tr>\n",
       "      <th>1</th>\n",
       "      <td>36.977</td>\n",
       "      <td>female</td>\n",
       "      <td>25.744</td>\n",
       "      <td>yes</td>\n",
       "      <td>southeast</td>\n",
       "      <td>3</td>\n",
       "      <td>21454.494</td>\n",
       "    </tr>\n",
       "    <tr>\n",
       "      <th>2</th>\n",
       "      <td>18.000</td>\n",
       "      <td>male</td>\n",
       "      <td>30.030</td>\n",
       "      <td>no</td>\n",
       "      <td>southeast</td>\n",
       "      <td>1</td>\n",
       "      <td>1720.354</td>\n",
       "    </tr>\n",
       "    <tr>\n",
       "      <th>3</th>\n",
       "      <td>37.000</td>\n",
       "      <td>male</td>\n",
       "      <td>30.677</td>\n",
       "      <td>no</td>\n",
       "      <td>northeast</td>\n",
       "      <td>3</td>\n",
       "      <td>6801.438</td>\n",
       "    </tr>\n",
       "    <tr>\n",
       "      <th>4</th>\n",
       "      <td>58.000</td>\n",
       "      <td>male</td>\n",
       "      <td>32.010</td>\n",
       "      <td>no</td>\n",
       "      <td>southeast</td>\n",
       "      <td>1</td>\n",
       "      <td>11946.626</td>\n",
       "    </tr>\n",
       "    <tr>\n",
       "      <th>...</th>\n",
       "      <td>...</td>\n",
       "      <td>...</td>\n",
       "      <td>...</td>\n",
       "      <td>...</td>\n",
       "      <td>...</td>\n",
       "      <td>...</td>\n",
       "      <td>...</td>\n",
       "    </tr>\n",
       "    <tr>\n",
       "      <th>2495</th>\n",
       "      <td>31.058</td>\n",
       "      <td>male</td>\n",
       "      <td>27.555</td>\n",
       "      <td>no</td>\n",
       "      <td>southeast</td>\n",
       "      <td>4</td>\n",
       "      <td>5889.104</td>\n",
       "    </tr>\n",
       "    <tr>\n",
       "      <th>2496</th>\n",
       "      <td>36.834</td>\n",
       "      <td>male</td>\n",
       "      <td>30.322</td>\n",
       "      <td>no</td>\n",
       "      <td>northeast</td>\n",
       "      <td>3</td>\n",
       "      <td>6788.534</td>\n",
       "    </tr>\n",
       "    <tr>\n",
       "      <th>2497</th>\n",
       "      <td>56.000</td>\n",
       "      <td>female</td>\n",
       "      <td>36.180</td>\n",
       "      <td>no</td>\n",
       "      <td>northwest</td>\n",
       "      <td>2</td>\n",
       "      <td>12401.747</td>\n",
       "    </tr>\n",
       "    <tr>\n",
       "      <th>2498</th>\n",
       "      <td>49.000</td>\n",
       "      <td>male</td>\n",
       "      <td>36.430</td>\n",
       "      <td>no</td>\n",
       "      <td>northwest</td>\n",
       "      <td>3</td>\n",
       "      <td>10376.295</td>\n",
       "    </tr>\n",
       "    <tr>\n",
       "      <th>2499</th>\n",
       "      <td>33.000</td>\n",
       "      <td>male</td>\n",
       "      <td>36.641</td>\n",
       "      <td>no</td>\n",
       "      <td>southwest</td>\n",
       "      <td>5</td>\n",
       "      <td>6658.237</td>\n",
       "    </tr>\n",
       "  </tbody>\n",
       "</table>\n",
       "<p>2500 rows × 7 columns</p>\n",
       "</div>"
      ],
      "text/plain": [
       "        age     sex    bmi smoker     region  children   charges\n",
       "0    21.000    male 25.745     no  northeast         2  3279.869\n",
       "1    36.977  female 25.744    yes  southeast         3 21454.494\n",
       "2    18.000    male 30.030     no  southeast         1  1720.354\n",
       "3    37.000    male 30.677     no  northeast         3  6801.438\n",
       "4    58.000    male 32.010     no  southeast         1 11946.626\n",
       "...     ...     ...    ...    ...        ...       ...       ...\n",
       "2495 31.058    male 27.555     no  southeast         4  5889.104\n",
       "2496 36.834    male 30.322     no  northeast         3  6788.534\n",
       "2497 56.000  female 36.180     no  northwest         2 12401.747\n",
       "2498 49.000    male 36.430     no  northwest         3 10376.295\n",
       "2499 33.000    male 36.641     no  southwest         5  6658.237\n",
       "\n",
       "[2500 rows x 7 columns]"
      ]
     },
     "execution_count": 3,
     "metadata": {},
     "output_type": "execute_result"
    }
   ],
   "source": [
    "df"
   ]
  },
  {
   "cell_type": "code",
   "execution_count": 4,
   "id": "056ee916",
   "metadata": {},
   "outputs": [
    {
     "name": "stdout",
     "output_type": "stream",
     "text": [
      "<class 'pandas.core.frame.DataFrame'>\n",
      "RangeIndex: 2500 entries, 0 to 2499\n",
      "Data columns (total 7 columns):\n",
      " #   Column    Non-Null Count  Dtype  \n",
      "---  ------    --------------  -----  \n",
      " 0   age       2500 non-null   float64\n",
      " 1   sex       2500 non-null   object \n",
      " 2   bmi       2500 non-null   float64\n",
      " 3   smoker    2500 non-null   object \n",
      " 4   region    2500 non-null   object \n",
      " 5   children  2500 non-null   int64  \n",
      " 6   charges   2500 non-null   float64\n",
      "dtypes: float64(3), int64(1), object(3)\n",
      "memory usage: 136.8+ KB\n"
     ]
    }
   ],
   "source": [
    "df.info()"
   ]
  },
  {
   "cell_type": "code",
   "execution_count": 5,
   "id": "50b80a65",
   "metadata": {},
   "outputs": [
    {
     "data": {
      "text/html": [
       "<div>\n",
       "<style scoped>\n",
       "    .dataframe tbody tr th:only-of-type {\n",
       "        vertical-align: middle;\n",
       "    }\n",
       "\n",
       "    .dataframe tbody tr th {\n",
       "        vertical-align: top;\n",
       "    }\n",
       "\n",
       "    .dataframe thead th {\n",
       "        text-align: right;\n",
       "    }\n",
       "</style>\n",
       "<table border=\"1\" class=\"dataframe\">\n",
       "  <thead>\n",
       "    <tr style=\"text-align: right;\">\n",
       "      <th></th>\n",
       "      <th>count</th>\n",
       "      <th>mean</th>\n",
       "      <th>std</th>\n",
       "      <th>min</th>\n",
       "      <th>25%</th>\n",
       "      <th>50%</th>\n",
       "      <th>75%</th>\n",
       "      <th>max</th>\n",
       "    </tr>\n",
       "  </thead>\n",
       "  <tbody>\n",
       "    <tr>\n",
       "      <th>age</th>\n",
       "      <td>2500.000</td>\n",
       "      <td>39.003</td>\n",
       "      <td>12.265</td>\n",
       "      <td>18.000</td>\n",
       "      <td>28.846</td>\n",
       "      <td>39.350</td>\n",
       "      <td>48.689</td>\n",
       "      <td>64.000</td>\n",
       "    </tr>\n",
       "    <tr>\n",
       "      <th>bmi</th>\n",
       "      <td>2500.000</td>\n",
       "      <td>30.575</td>\n",
       "      <td>5.390</td>\n",
       "      <td>15.960</td>\n",
       "      <td>26.718</td>\n",
       "      <td>30.200</td>\n",
       "      <td>34.046</td>\n",
       "      <td>53.130</td>\n",
       "    </tr>\n",
       "    <tr>\n",
       "      <th>children</th>\n",
       "      <td>2500.000</td>\n",
       "      <td>2.488</td>\n",
       "      <td>1.707</td>\n",
       "      <td>0.000</td>\n",
       "      <td>1.000</td>\n",
       "      <td>2.000</td>\n",
       "      <td>4.000</td>\n",
       "      <td>5.000</td>\n",
       "    </tr>\n",
       "    <tr>\n",
       "      <th>charges</th>\n",
       "      <td>2500.000</td>\n",
       "      <td>12679.312</td>\n",
       "      <td>10593.270</td>\n",
       "      <td>1121.874</td>\n",
       "      <td>5612.781</td>\n",
       "      <td>9455.047</td>\n",
       "      <td>14440.628</td>\n",
       "      <td>63770.428</td>\n",
       "    </tr>\n",
       "  </tbody>\n",
       "</table>\n",
       "</div>"
      ],
      "text/plain": [
       "            count      mean       std      min      25%      50%       75%  \\\n",
       "age      2500.000    39.003    12.265   18.000   28.846   39.350    48.689   \n",
       "bmi      2500.000    30.575     5.390   15.960   26.718   30.200    34.046   \n",
       "children 2500.000     2.488     1.707    0.000    1.000    2.000     4.000   \n",
       "charges  2500.000 12679.312 10593.270 1121.874 5612.781 9455.047 14440.628   \n",
       "\n",
       "               max  \n",
       "age         64.000  \n",
       "bmi         53.130  \n",
       "children     5.000  \n",
       "charges  63770.428  "
      ]
     },
     "execution_count": 5,
     "metadata": {},
     "output_type": "execute_result"
    }
   ],
   "source": [
    "df.describe().T"
   ]
  },
  {
   "cell_type": "code",
   "execution_count": 6,
   "id": "5ba573a5",
   "metadata": {},
   "outputs": [
    {
     "name": "stdout",
     "output_type": "stream",
     "text": [
      "sex   : 2\n",
      "smoker: 2\n",
      "region: 4\n"
     ]
    }
   ],
   "source": [
    "for col in df.select_dtypes('object'):\n",
    "    print(f\"{col:<6}:\", df[col].nunique())"
   ]
  },
  {
   "cell_type": "code",
   "execution_count": 7,
   "id": "04b86f46",
   "metadata": {},
   "outputs": [
    {
     "data": {
      "text/plain": [
       "<AxesSubplot:>"
      ]
     },
     "execution_count": 7,
     "metadata": {},
     "output_type": "execute_result"
    },
    {
     "data": {
      "image/png": "[encoded data removed]",
      "text/plain": [
       "<Figure size 720x432 with 2 Axes>"
      ]
     },
     "metadata": {
      "needs_background": "light"
     },
     "output_type": "display_data"
    }
   ],
   "source": [
    "sns.heatmap(df.select_dtypes(include =\"number\").corr(), annot =True)"
   ]
  },
  {
   "cell_type": "code",
   "execution_count": 8,
   "id": "8b1bb347",
   "metadata": {},
   "outputs": [
    {
     "data": {
      "text/plain": [
       "<AxesSubplot:xlabel='charges'>"
      ]
     },
     "execution_count": 8,
     "metadata": {},
     "output_type": "execute_result"
    },
    {
     "data": {
      "image/png": "[encoded data removed]",
      "text/plain": [
       "<Figure size 720x432 with 1 Axes>"
      ]
     },
     "metadata": {
      "needs_background": "light"
     },
     "output_type": "display_data"
    }
   ],
   "source": [
    "sns.boxplot(df.charges)"
   ]
  },
  {
   "cell_type": "code",
   "execution_count": 9,
   "id": "a6f7f51a",
   "metadata": {},
   "outputs": [
    {
     "data": {
      "text/plain": [
       "False    2500\n",
       "dtype: int64"
      ]
     },
     "execution_count": 9,
     "metadata": {},
     "output_type": "execute_result"
    }
   ],
   "source": [
    "df.duplicated().value_counts()"
   ]
  },
  {
   "cell_type": "code",
   "execution_count": 10,
   "id": "98dea1e1",
   "metadata": {},
   "outputs": [
    {
     "data": {
      "text/plain": [
       "array([1, 2, 3, 4, 5, 6, 7, 8, 9])"
      ]
     },
     "execution_count": 10,
     "metadata": {},
     "output_type": "execute_result"
    }
   ],
   "source": [
    "np.array(range(1,10))"
   ]
  },
  {
   "cell_type": "code",
   "execution_count": 11,
   "id": "98d6e41a",
   "metadata": {},
   "outputs": [
    {
     "data": {
      "text/plain": [
       "<AxesSubplot:xlabel='bmi'>"
      ]
     },
     "execution_count": 11,
     "metadata": {},
     "output_type": "execute_result"
    },
    {
     "data": {
      "image/png": "[encoded data removed]",
      "text/plain": [
       "<Figure size 720x432 with 1 Axes>"
      ]
     },
     "metadata": {
      "needs_background": "light"
     },
     "output_type": "display_data"
    }
   ],
   "source": [
    "sns.boxplot(df.bmi)"
   ]
  },
  {
   "cell_type": "code",
   "execution_count": 12,
   "id": "0bd1b37b",
   "metadata": {},
   "outputs": [
    {
     "data": {
      "text/plain": [
       "<AxesSubplot:ylabel='Frequency'>"
      ]
     },
     "execution_count": 12,
     "metadata": {},
     "output_type": "execute_result"
    },
    {
     "data": {
      "image/png": "[encoded data removed]",
      "text/plain": [
       "<Figure size 720x432 with 1 Axes>"
      ]
     },
     "metadata": {
      "needs_background": "light"
     },
     "output_type": "display_data"
    }
   ],
   "source": [
    "df[df.bmi>45].charges.plot(kind=\"hist\")"
   ]
  },
  {
   "cell_type": "code",
   "execution_count": 13,
   "id": "d167e447",
   "metadata": {},
   "outputs": [],
   "source": [
    "df2 = df[df.bmi<45]"
   ]
  },
  {
   "cell_type": "code",
   "execution_count": 14,
   "id": "25902409",
   "metadata": {},
   "outputs": [
    {
     "data": {
      "text/plain": [
       "<AxesSubplot:xlabel='bmi'>"
      ]
     },
     "execution_count": 14,
     "metadata": {},
     "output_type": "execute_result"
    },
    {
     "data": {
      "image/png": "[encoded data removed]",
      "text/plain": [
       "<Figure size 720x432 with 1 Axes>"
      ]
     },
     "metadata": {
      "needs_background": "light"
     },
     "output_type": "display_data"
    }
   ],
   "source": [
    "sns.boxplot(df2.bmi)"
   ]
  },
  {
   "cell_type": "code",
   "execution_count": 15,
   "id": "d820d06f",
   "metadata": {
    "scrolled": false
   },
   "outputs": [
    {
     "name": "stdout",
     "output_type": "stream",
     "text": [
      "<class 'pandas.core.frame.DataFrame'>\n",
      "Int64Index: 2484 entries, 0 to 2499\n",
      "Data columns (total 7 columns):\n",
      " #   Column    Non-Null Count  Dtype  \n",
      "---  ------    --------------  -----  \n",
      " 0   age       2484 non-null   float64\n",
      " 1   sex       2484 non-null   object \n",
      " 2   bmi       2484 non-null   float64\n",
      " 3   smoker    2484 non-null   object \n",
      " 4   region    2484 non-null   object \n",
      " 5   children  2484 non-null   int64  \n",
      " 6   charges   2484 non-null   float64\n",
      "dtypes: float64(3), int64(1), object(3)\n",
      "memory usage: 155.2+ KB\n"
     ]
    }
   ],
   "source": [
    "df2.info()"
   ]
  },
  {
   "cell_type": "code",
   "execution_count": 16,
   "id": "ce5dd2b5",
   "metadata": {},
   "outputs": [
    {
     "data": {
      "text/plain": [
       "<AxesSubplot:>"
      ]
     },
     "execution_count": 16,
     "metadata": {},
     "output_type": "execute_result"
    },
    {
     "data": {
      "image/png": "[encoded data removed]",
      "text/plain": [
       "<Figure size 720x432 with 2 Axes>"
      ]
     },
     "metadata": {
      "needs_background": "light"
     },
     "output_type": "display_data"
    }
   ],
   "source": [
    "sns.heatmap(df2.select_dtypes(include =\"number\").corr(), annot =True)"
   ]
  },
  {
   "cell_type": "code",
   "execution_count": 17,
   "id": "9f8beba2",
   "metadata": {},
   "outputs": [
    {
     "data": {
      "text/plain": [
       "<AxesSubplot:>"
      ]
     },
     "execution_count": 17,
     "metadata": {},
     "output_type": "execute_result"
    },
    {
     "data": {
      "image/png": "[encoded data removed]",
      "text/plain": [
       "<Figure size 720x432 with 2 Axes>"
      ]
     },
     "metadata": {
      "needs_background": "light"
     },
     "output_type": "display_data"
    }
   ],
   "source": [
    "sns.heatmap(df.select_dtypes(include =\"number\").corr(), annot =True)"
   ]
  },
  {
   "cell_type": "code",
   "execution_count": 18,
   "id": "336fba75",
   "metadata": {},
   "outputs": [
    {
     "data": {
      "text/plain": [
       "<AxesSubplot:xlabel='children'>"
      ]
     },
     "execution_count": 18,
     "metadata": {},
     "output_type": "execute_result"
    },
    {
     "data": {
      "image/png": "[encoded data removed]",
      "text/plain": [
       "<Figure size 720x432 with 1 Axes>"
      ]
     },
     "metadata": {
      "needs_background": "light"
     },
     "output_type": "display_data"
    }
   ],
   "source": [
    "sns.boxplot(df2.children)"
   ]
  },
  {
   "cell_type": "code",
   "execution_count": 19,
   "id": "f617c288",
   "metadata": {},
   "outputs": [
    {
     "data": {
      "text/plain": [
       "<AxesSubplot:xlabel='age'>"
      ]
     },
     "execution_count": 19,
     "metadata": {},
     "output_type": "execute_result"
    },
    {
     "data": {
      "image/png": "[encoded data removed]",
      "text/plain": [
       "<Figure size 720x432 with 1 Axes>"
      ]
     },
     "metadata": {
      "needs_background": "light"
     },
     "output_type": "display_data"
    }
   ],
   "source": [
    "sns.boxplot(df2.age)"
   ]
  },
  {
   "cell_type": "code",
   "execution_count": 20,
   "id": "41332343",
   "metadata": {},
   "outputs": [
    {
     "data": {
      "text/plain": [
       "Index(['age', 'sex', 'bmi', 'smoker', 'region', 'children', 'charges'], dtype='object')"
      ]
     },
     "execution_count": 20,
     "metadata": {},
     "output_type": "execute_result"
    }
   ],
   "source": [
    "df.columns"
   ]
  },
  {
   "cell_type": "code",
   "execution_count": 21,
   "id": "a68683f0",
   "metadata": {},
   "outputs": [
    {
     "data": {
      "image/png": "[encoded data removed]",
      "text/plain": [
       "<Figure size 1440x1440 with 4 Axes>"
      ]
     },
     "metadata": {
      "needs_background": "light"
     },
     "output_type": "display_data"
    }
   ],
   "source": [
    "index = 0\n",
    "plt.figure(figsize=(20,20))\n",
    "for feature in ['sex','smoker', 'region', 'children', 'charges']:\n",
    "    if feature != \"charges\":\n",
    "        index += 1\n",
    "        plt.subplot(3,3,index)\n",
    "        sns.boxplot(x=feature, y='charges', data=df)\n",
    "        sns.stripplot(x=feature, y='charges', data=df, color= \"g\")"
   ]
  },
  {
   "cell_type": "code",
   "execution_count": 11,
   "id": "09d096ad",
   "metadata": {},
   "outputs": [
    {
     "ename": "ModuleNotFoundError",
     "evalue": "No module named 'pycaret'",
     "output_type": "error",
     "traceback": [
      "\u001b[1;31m---------------------------------------------------------------------------\u001b[0m",
      "\u001b[1;31mModuleNotFoundError\u001b[0m                       Traceback (most recent call last)",
      "\u001b[1;32m~\\AppData\\Local\\Temp/ipykernel_2980/727406358.py\u001b[0m in \u001b[0;36m<module>\u001b[1;34m\u001b[0m\n\u001b[0;32m      1\u001b[0m \u001b[1;31m# compare machine learning algorithms on the sonar classification dataset\u001b[0m\u001b[1;33m\u001b[0m\u001b[1;33m\u001b[0m\u001b[1;33m\u001b[0m\u001b[0m\n\u001b[0;32m      2\u001b[0m \u001b[1;31m# check pycaret version\u001b[0m\u001b[1;33m\u001b[0m\u001b[1;33m\u001b[0m\u001b[1;33m\u001b[0m\u001b[0m\n\u001b[1;32m----> 3\u001b[1;33m \u001b[1;32mfrom\u001b[0m \u001b[0mpycaret\u001b[0m \u001b[1;32mimport\u001b[0m \u001b[1;33m*\u001b[0m\u001b[1;33m\u001b[0m\u001b[1;33m\u001b[0m\u001b[0m\n\u001b[0m\u001b[0;32m      4\u001b[0m \u001b[1;32mfrom\u001b[0m \u001b[0mpandas\u001b[0m \u001b[1;32mimport\u001b[0m \u001b[0mread_csv\u001b[0m\u001b[1;33m\u001b[0m\u001b[1;33m\u001b[0m\u001b[0m\n\u001b[0;32m      5\u001b[0m \u001b[1;32mfrom\u001b[0m \u001b[0mpycaret\u001b[0m\u001b[1;33m.\u001b[0m\u001b[0mclassification\u001b[0m \u001b[1;32mimport\u001b[0m \u001b[0msetup\u001b[0m\u001b[1;33m\u001b[0m\u001b[1;33m\u001b[0m\u001b[0m\n",
      "\u001b[1;31mModuleNotFoundError\u001b[0m: No module named 'pycaret'"
     ]
    }
   ],
   "source": [
    "# compare machine learning algorithms on the sonar classification dataset\n",
    "# check pycaret version\n",
    "from pycaret import *\n",
    "from pandas import read_csv\n",
    "from pycaret.classification import setup\n",
    "from pycaret.classification import compare_models\n",
    "# define the location of the dataset\n",
    "#url = 'https://raw.githubusercontent.com/jbrownlee/Datasets/master/sonar.csv'\n",
    "# load the dataset\n",
    "#df = read_csv(url, header=None)\n",
    "# set column names as the column number\n",
    "n_cols = df2.shape[1]\n",
    "df2.columns = [str(i) for i in range(n_cols)]\n",
    "# setup the dataset\n",
    "grid = setup(data=df2, target=df2.charges, html=False, silent=True, verbose=False)\n",
    "# evaluate models and compare models\n",
    "best = compare_models()\n",
    "# report the best model\n",
    "print(best)"
   ]
  },
  {
   "cell_type": "code",
   "execution_count": 8,
   "id": "228622db",
   "metadata": {},
   "outputs": [
    {
     "name": "stdout",
     "output_type": "stream",
     "text": [
      "Collecting pycaret==2.0\n",
      "  Using cached pycaret-2.0-py3-none-any.whl (255 kB)\n",
      "Requirement already satisfied: xgboost>=0.90 in c:\\users\\mduru\\anaconda3\\lib\\site-packages (from pycaret==2.0) (1.5.2)\n",
      "Collecting kmodes>=0.10.1\n",
      "  Using cached kmodes-0.11.1-py2.py3-none-any.whl (19 kB)\n",
      "Requirement already satisfied: imbalanced-learn in c:\\users\\mduru\\anaconda3\\lib\\site-packages (from pycaret==2.0) (0.9.0)\n",
      "Collecting lightgbm>=2.3.1\n",
      "  Using cached lightgbm-3.3.2-py3-none-win_amd64.whl (1.0 MB)\n",
      "Requirement already satisfied: textblob in c:\\users\\mduru\\anaconda3\\lib\\site-packages (from pycaret==2.0) (0.17.1)\n",
      "Collecting pyod\n",
      "  Using cached pyod-0.9.7-py3-none-any.whl\n",
      "Requirement already satisfied: numpy>=1.17 in c:\\users\\mduru\\anaconda3\\lib\\site-packages (from pycaret==2.0) (1.20.3)\n",
      "Collecting catboost\n",
      "  Using cached catboost-1.0.4-cp38-none-win_amd64.whl (73.5 MB)\n",
      "Requirement already satisfied: pandas in c:\\users\\mduru\\anaconda3\\lib\\site-packages (from pycaret==2.0) (1.3.5)\n",
      "Requirement already satisfied: scikit-learn>=0.23 in c:\\users\\mduru\\anaconda3\\lib\\site-packages (from pycaret==2.0) (1.0.2)\n",
      "Collecting mlflow\n",
      "  Using cached mlflow-1.23.1-py3-none-any.whl (15.6 MB)\n",
      "Requirement already satisfied: nltk in c:\\users\\mduru\\anaconda3\\lib\\site-packages (from pycaret==2.0) (3.6.5)\n",
      "Requirement already satisfied: matplotlib in c:\\users\\mduru\\anaconda3\\lib\\site-packages (from pycaret==2.0) (3.5.0)\n",
      "Requirement already satisfied: joblib in c:\\users\\mduru\\anaconda3\\lib\\site-packages (from pycaret==2.0) (1.1.0)\n",
      "Requirement already satisfied: seaborn in c:\\users\\mduru\\anaconda3\\lib\\site-packages (from pycaret==2.0) (0.11.2)\n",
      "Requirement already satisfied: IPython in c:\\users\\mduru\\anaconda3\\lib\\site-packages (from pycaret==2.0) (7.31.1)\n",
      "Collecting umap-learn\n",
      "  Using cached umap_learn-0.5.2-py3-none-any.whl\n",
      "Requirement already satisfied: pandas-profiling>=2.3.0 in c:\\users\\mduru\\anaconda3\\lib\\site-packages (from pycaret==2.0) (3.1.0)\n",
      "Requirement already satisfied: yellowbrick>=1.0.1 in c:\\users\\mduru\\anaconda3\\lib\\site-packages (from pycaret==2.0) (1.3.post1)\n",
      "Collecting datefinder>=0.7.0\n",
      "  Using cached datefinder-0.7.1-py2.py3-none-any.whl (10 kB)\n",
      "Collecting mlxtend\n",
      "  Using cached mlxtend-0.19.0-py2.py3-none-any.whl (1.3 MB)\n",
      "Requirement already satisfied: ipywidgets in c:\\users\\mduru\\anaconda3\\lib\\site-packages (from pycaret==2.0) (7.6.5)\n",
      "Requirement already satisfied: wordcloud in c:\\users\\mduru\\anaconda3\\lib\\site-packages (from pycaret==2.0) (1.8.1)\n",
      "Collecting spacy\n",
      "  Using cached spacy-3.2.2-cp38-cp38-win_amd64.whl (11.6 MB)\n",
      "Collecting DateTime>=4.3\n",
      "  Using cached DateTime-4.4-py2.py3-none-any.whl (51 kB)\n",
      "Requirement already satisfied: cufflinks>=0.17.0 in c:\\users\\mduru\\anaconda3\\lib\\site-packages (from pycaret==2.0) (0.17.3)\n",
      "Collecting gensim\n",
      "  Using cached gensim-4.1.2-cp38-cp38-win_amd64.whl (24.0 MB)\n",
      "Requirement already satisfied: plotly>=4.4.1 in c:\\users\\mduru\\anaconda3\\lib\\site-packages (from pycaret==2.0) (5.5.0)\n",
      "Collecting pyLDAvis\n",
      "  Using cached pyLDAvis-3.3.1.tar.gz (1.7 MB)\n",
      "  Installing build dependencies: started\n",
      "  Installing build dependencies: finished with status 'done'\n",
      "  Getting requirements to build wheel: started\n",
      "  Getting requirements to build wheel: finished with status 'done'\n",
      "  Installing backend dependencies: started\n",
      "  Installing backend dependencies: finished with status 'done'\n",
      "    Preparing wheel metadata: started\n",
      "    Preparing wheel metadata: finished with status 'done'\n",
      "Requirement already satisfied: colorlover>=0.2.1 in c:\\users\\mduru\\anaconda3\\lib\\site-packages (from cufflinks>=0.17.0->pycaret==2.0) (0.3.0)\n",
      "Requirement already satisfied: setuptools>=34.4.1 in c:\\users\\mduru\\anaconda3\\lib\\site-packages (from cufflinks>=0.17.0->pycaret==2.0) (60.8.1)\n",
      "Requirement already satisfied: six>=1.9.0 in c:\\users\\mduru\\anaconda3\\lib\\site-packages (from cufflinks>=0.17.0->pycaret==2.0) (1.16.0)\n",
      "Requirement already satisfied: regex>=2017.02.08 in c:\\users\\mduru\\anaconda3\\lib\\site-packages (from datefinder>=0.7.0->pycaret==2.0) (2021.8.3)\n",
      "Requirement already satisfied: pytz in c:\\users\\mduru\\anaconda3\\lib\\site-packages (from datefinder>=0.7.0->pycaret==2.0) (2021.3)\n",
      "Requirement already satisfied: python-dateutil>=2.4.2 in c:\\users\\mduru\\anaconda3\\lib\\site-packages (from datefinder>=0.7.0->pycaret==2.0) (2.8.2)\n",
      "Requirement already satisfied: zope.interface in c:\\users\\mduru\\anaconda3\\lib\\site-packages (from DateTime>=4.3->pycaret==2.0) (5.4.0)\n",
      "Requirement already satisfied: decorator in c:\\users\\mduru\\anaconda3\\lib\\site-packages (from IPython->pycaret==2.0) (5.1.1)\n",
      "Requirement already satisfied: colorama in c:\\users\\mduru\\anaconda3\\lib\\site-packages (from IPython->pycaret==2.0) (0.4.4)\n",
      "Requirement already satisfied: traitlets>=4.2 in c:\\users\\mduru\\anaconda3\\lib\\site-packages (from IPython->pycaret==2.0) (5.1.1)\n",
      "Requirement already satisfied: matplotlib-inline in c:\\users\\mduru\\anaconda3\\lib\\site-packages (from IPython->pycaret==2.0) (0.1.2)\n",
      "Requirement already satisfied: prompt-toolkit!=3.0.0,!=3.0.1,<3.1.0,>=2.0.0 in c:\\users\\mduru\\anaconda3\\lib\\site-packages (from IPython->pycaret==2.0) (3.0.20)\n",
      "Requirement already satisfied: backcall in c:\\users\\mduru\\anaconda3\\lib\\site-packages (from IPython->pycaret==2.0) (0.2.0)\n",
      "Requirement already satisfied: pygments in c:\\users\\mduru\\anaconda3\\lib\\site-packages (from IPython->pycaret==2.0) (2.11.2)\n",
      "Requirement already satisfied: jedi>=0.16 in c:\\users\\mduru\\anaconda3\\lib\\site-packages (from IPython->pycaret==2.0) (0.18.1)\n",
      "Requirement already satisfied: pickleshare in c:\\users\\mduru\\anaconda3\\lib\\site-packages (from IPython->pycaret==2.0) (0.7.5)\n",
      "Requirement already satisfied: jupyterlab-widgets>=1.0.0 in c:\\users\\mduru\\anaconda3\\lib\\site-packages (from ipywidgets->pycaret==2.0) (1.0.0)\n",
      "Requirement already satisfied: widgetsnbextension~=3.5.0 in c:\\users\\mduru\\anaconda3\\lib\\site-packages (from ipywidgets->pycaret==2.0) (3.5.1)\n",
      "Requirement already satisfied: ipykernel>=4.5.1 in c:\\users\\mduru\\anaconda3\\lib\\site-packages (from ipywidgets->pycaret==2.0) (6.4.1)\n",
      "Requirement already satisfied: nbformat>=4.2.0 in c:\\users\\mduru\\anaconda3\\lib\\site-packages (from ipywidgets->pycaret==2.0) (5.1.3)\n",
      "Requirement already satisfied: ipython-genutils~=0.2.0 in c:\\users\\mduru\\anaconda3\\lib\\site-packages (from ipywidgets->pycaret==2.0) (0.2.0)\n",
      "Requirement already satisfied: tornado<7.0,>=4.2 in c:\\users\\mduru\\anaconda3\\lib\\site-packages (from ipykernel>=4.5.1->ipywidgets->pycaret==2.0) (6.1)\n",
      "Requirement already satisfied: jupyter-client<8.0 in c:\\users\\mduru\\anaconda3\\lib\\site-packages (from ipykernel>=4.5.1->ipywidgets->pycaret==2.0) (6.1.12)\n",
      "Requirement already satisfied: debugpy<2.0,>=1.0.0 in c:\\users\\mduru\\anaconda3\\lib\\site-packages (from ipykernel>=4.5.1->ipywidgets->pycaret==2.0) (1.5.1)\n",
      "Requirement already satisfied: parso<0.9.0,>=0.8.0 in c:\\users\\mduru\\anaconda3\\lib\\site-packages (from jedi>=0.16->IPython->pycaret==2.0) (0.8.3)\n",
      "Requirement already satisfied: pyzmq>=13 in c:\\users\\mduru\\anaconda3\\lib\\site-packages (from jupyter-client<8.0->ipykernel>=4.5.1->ipywidgets->pycaret==2.0) (22.3.0)\n",
      "Requirement already satisfied: jupyter-core>=4.6.0 in c:\\users\\mduru\\anaconda3\\lib\\site-packages (from jupyter-client<8.0->ipykernel>=4.5.1->ipywidgets->pycaret==2.0) (4.9.1)\n",
      "Requirement already satisfied: pywin32>=1.0 in c:\\users\\mduru\\anaconda3\\lib\\site-packages (from jupyter-core>=4.6.0->jupyter-client<8.0->ipykernel>=4.5.1->ipywidgets->pycaret==2.0) (302)\n",
      "Requirement already satisfied: scipy>=0.13.3 in c:\\users\\mduru\\anaconda3\\lib\\site-packages (from kmodes>=0.10.1->pycaret==2.0) (1.7.3)\n",
      "Requirement already satisfied: wheel in c:\\users\\mduru\\anaconda3\\lib\\site-packages (from lightgbm>=2.3.1->pycaret==2.0) (0.37.1)\n",
      "Requirement already satisfied: jsonschema!=2.5.0,>=2.4 in c:\\users\\mduru\\anaconda3\\lib\\site-packages (from nbformat>=4.2.0->ipywidgets->pycaret==2.0) (3.2.0)\n",
      "Requirement already satisfied: pyrsistent>=0.14.0 in c:\\users\\mduru\\anaconda3\\lib\\site-packages (from jsonschema!=2.5.0,>=2.4->nbformat>=4.2.0->ipywidgets->pycaret==2.0) (0.18.0)\n",
      "Requirement already satisfied: attrs>=17.4.0 in c:\\users\\mduru\\anaconda3\\lib\\site-packages (from jsonschema!=2.5.0,>=2.4->nbformat>=4.2.0->ipywidgets->pycaret==2.0) (21.4.0)\n"
     ]
    },
    {
     "name": "stderr",
     "output_type": "stream",
     "text": [
      "ERROR: Could not install packages due to an OSError: [Errno 2] No such file or directory: 'c:\\\\users\\\\mduru\\\\anaconda3\\\\lib\\\\site-packages\\\\numpy-1.20.3.dist-info\\\\METADATA'\n",
      "\n"
     ]
    }
   ],
   "source": [
    "!pip install pycaret==2.0\n"
   ]
  },
  {
   "cell_type": "markdown",
   "id": "fbccfbe3",
   "metadata": {},
   "source": [
    " # Test datası "
   ]
  },
  {
   "cell_type": "code",
   "execution_count": 26,
   "id": "0713dc92",
   "metadata": {},
   "outputs": [],
   "source": [
    "test = pd.read_csv(\"health_test.csv\")"
   ]
  },
  {
   "cell_type": "code",
   "execution_count": 27,
   "id": "52b7c6f0",
   "metadata": {
    "scrolled": true
   },
   "outputs": [
    {
     "name": "stdout",
     "output_type": "stream",
     "text": [
      "<class 'pandas.core.frame.DataFrame'>\n",
      "RangeIndex: 451 entries, 0 to 450\n",
      "Data columns (total 6 columns):\n",
      " #   Column    Non-Null Count  Dtype  \n",
      "---  ------    --------------  -----  \n",
      " 0   age       451 non-null    float64\n",
      " 1   sex       451 non-null    object \n",
      " 2   bmi       451 non-null    float64\n",
      " 3   smoker    451 non-null    object \n",
      " 4   region    451 non-null    object \n",
      " 5   children  451 non-null    int64  \n",
      "dtypes: float64(2), int64(1), object(3)\n",
      "memory usage: 21.3+ KB\n"
     ]
    }
   ],
   "source": [
    "test.info()  "
   ]
  },
  {
   "cell_type": "markdown",
   "id": "90e54c8f",
   "metadata": {},
   "source": [
    "# Train/Test"
   ]
  },
  {
   "cell_type": "code",
   "execution_count": 28,
   "id": "e11847e6",
   "metadata": {},
   "outputs": [],
   "source": [
    "X= df2.drop(columns=\"charges\")   \n",
    "y= df2.charges"
   ]
  },
  {
   "cell_type": "code",
   "execution_count": 29,
   "id": "ab0fbbf1",
   "metadata": {},
   "outputs": [
    {
     "data": {
      "text/plain": [
       "Index(['sex', 'smoker', 'region'], dtype='object')"
      ]
     },
     "execution_count": 29,
     "metadata": {},
     "output_type": "execute_result"
    }
   ],
   "source": [
    "cat = X.select_dtypes(\"object\").columns     #encoder\n",
    "cat"
   ]
  },
  {
   "cell_type": "code",
   "execution_count": 30,
   "id": "a72692bf",
   "metadata": {},
   "outputs": [
    {
     "data": {
      "text/html": [
       "<div>\n",
       "<style scoped>\n",
       "    .dataframe tbody tr th:only-of-type {\n",
       "        vertical-align: middle;\n",
       "    }\n",
       "\n",
       "    .dataframe tbody tr th {\n",
       "        vertical-align: top;\n",
       "    }\n",
       "\n",
       "    .dataframe thead th {\n",
       "        text-align: right;\n",
       "    }\n",
       "</style>\n",
       "<table border=\"1\" class=\"dataframe\">\n",
       "  <thead>\n",
       "    <tr style=\"text-align: right;\">\n",
       "      <th></th>\n",
       "      <th>age</th>\n",
       "      <th>sex</th>\n",
       "      <th>bmi</th>\n",
       "      <th>smoker</th>\n",
       "      <th>region</th>\n",
       "      <th>children</th>\n",
       "    </tr>\n",
       "  </thead>\n",
       "  <tbody>\n",
       "    <tr>\n",
       "      <th>0</th>\n",
       "      <td>21.000</td>\n",
       "      <td>1.000</td>\n",
       "      <td>25.745</td>\n",
       "      <td>0.000</td>\n",
       "      <td>0.000</td>\n",
       "      <td>2</td>\n",
       "    </tr>\n",
       "    <tr>\n",
       "      <th>1</th>\n",
       "      <td>36.977</td>\n",
       "      <td>0.000</td>\n",
       "      <td>25.744</td>\n",
       "      <td>1.000</td>\n",
       "      <td>2.000</td>\n",
       "      <td>3</td>\n",
       "    </tr>\n",
       "    <tr>\n",
       "      <th>2</th>\n",
       "      <td>18.000</td>\n",
       "      <td>1.000</td>\n",
       "      <td>30.030</td>\n",
       "      <td>0.000</td>\n",
       "      <td>2.000</td>\n",
       "      <td>1</td>\n",
       "    </tr>\n",
       "    <tr>\n",
       "      <th>3</th>\n",
       "      <td>37.000</td>\n",
       "      <td>1.000</td>\n",
       "      <td>30.677</td>\n",
       "      <td>0.000</td>\n",
       "      <td>0.000</td>\n",
       "      <td>3</td>\n",
       "    </tr>\n",
       "    <tr>\n",
       "      <th>4</th>\n",
       "      <td>58.000</td>\n",
       "      <td>1.000</td>\n",
       "      <td>32.010</td>\n",
       "      <td>0.000</td>\n",
       "      <td>2.000</td>\n",
       "      <td>1</td>\n",
       "    </tr>\n",
       "  </tbody>\n",
       "</table>\n",
       "</div>"
      ],
      "text/plain": [
       "     age   sex    bmi  smoker  region  children\n",
       "0 21.000 1.000 25.745   0.000   0.000         2\n",
       "1 36.977 0.000 25.744   1.000   2.000         3\n",
       "2 18.000 1.000 30.030   0.000   2.000         1\n",
       "3 37.000 1.000 30.677   0.000   0.000         3\n",
       "4 58.000 1.000 32.010   0.000   2.000         1"
      ]
     },
     "execution_count": 30,
     "metadata": {},
     "output_type": "execute_result"
    }
   ],
   "source": [
    "from sklearn.preprocessing import OrdinalEncoder\n",
    "enc = OrdinalEncoder()\n",
    "X[cat] = enc.fit_transform(X[cat])\n",
    "X.head()"
   ]
  },
  {
   "cell_type": "code",
   "execution_count": 31,
   "id": "3e0721c1",
   "metadata": {},
   "outputs": [],
   "source": [
    "X_train, X_test, y_train, y_test = train_test_split(X, y, test_size=0.2, random_state=101)"
   ]
  },
  {
   "cell_type": "code",
   "execution_count": 30,
   "id": "6ece1ceb",
   "metadata": {},
   "outputs": [
    {
     "data": {
      "text/plain": [
       "(1987, 6)"
      ]
     },
     "execution_count": 30,
     "metadata": {},
     "output_type": "execute_result"
    }
   ],
   "source": [
    "X_train.shape"
   ]
  },
  {
   "cell_type": "code",
   "execution_count": 31,
   "id": "32d078e6",
   "metadata": {},
   "outputs": [
    {
     "data": {
      "text/plain": [
       "(497, 6)"
      ]
     },
     "execution_count": 31,
     "metadata": {},
     "output_type": "execute_result"
    }
   ],
   "source": [
    "X_test.shape"
   ]
  },
  {
   "cell_type": "code",
   "execution_count": 32,
   "id": "3c7c1a03",
   "metadata": {},
   "outputs": [],
   "source": [
    "def train_val(model, X_train, y_train, X_test, y_test):\n",
    "    \n",
    "    y_pred = model.predict(X_test)\n",
    "    y_train_pred = model.predict(X_train)\n",
    "    \n",
    "    scores = {\"train\": {\"R2\" : r2_score(y_train, y_train_pred),\n",
    "    \"mae\" : mean_absolute_error(y_train, y_train_pred),\n",
    "    \"mse\" : mean_squared_error(y_train, y_train_pred),                          \n",
    "    \"rmse\" : np.sqrt(mean_squared_error(y_train, y_train_pred))},\n",
    "    \n",
    "    \"test\": {\"R2\" : r2_score(y_test, y_pred),\n",
    "    \"mae\" : mean_absolute_error(y_test, y_pred),\n",
    "    \"mse\" : mean_squared_error(y_test, y_pred),\n",
    "    \"rmse\" : np.sqrt(mean_squared_error(y_test, y_pred))}}\n",
    "    \n",
    "    return pd.DataFrame(scores)"
   ]
  },
  {
   "cell_type": "code",
   "execution_count": 30,
   "id": "1464ac11",
   "metadata": {},
   "outputs": [],
   "source": [
    "from sklearn.tree import DecisionTreeClassifier, DecisionTreeRegressor"
   ]
  },
  {
   "cell_type": "code",
   "execution_count": 31,
   "id": "458398e8",
   "metadata": {},
   "outputs": [],
   "source": [
    "DT_model = DecisionTreeRegressor(random_state=101)"
   ]
  },
  {
   "cell_type": "code",
   "execution_count": 32,
   "id": "1e21925e",
   "metadata": {},
   "outputs": [
    {
     "data": {
      "text/plain": [
       "DecisionTreeRegressor(random_state=101)"
      ]
     },
     "execution_count": 32,
     "metadata": {},
     "output_type": "execute_result"
    }
   ],
   "source": [
    "DT_model.fit(X_train, y_train)"
   ]
  },
  {
   "cell_type": "code",
   "execution_count": 33,
   "id": "4568555d",
   "metadata": {},
   "outputs": [
    {
     "data": {
      "text/html": [
       "<div>\n",
       "<style scoped>\n",
       "    .dataframe tbody tr th:only-of-type {\n",
       "        vertical-align: middle;\n",
       "    }\n",
       "\n",
       "    .dataframe tbody tr th {\n",
       "        vertical-align: top;\n",
       "    }\n",
       "\n",
       "    .dataframe thead th {\n",
       "        text-align: right;\n",
       "    }\n",
       "</style>\n",
       "<table border=\"1\" class=\"dataframe\">\n",
       "  <thead>\n",
       "    <tr style=\"text-align: right;\">\n",
       "      <th></th>\n",
       "      <th>train</th>\n",
       "      <th>test</th>\n",
       "    </tr>\n",
       "  </thead>\n",
       "  <tbody>\n",
       "    <tr>\n",
       "      <th>R2</th>\n",
       "      <td>1.000</td>\n",
       "      <td>0.764</td>\n",
       "    </tr>\n",
       "    <tr>\n",
       "      <th>mae</th>\n",
       "      <td>0.000</td>\n",
       "      <td>1992.582</td>\n",
       "    </tr>\n",
       "    <tr>\n",
       "      <th>mse</th>\n",
       "      <td>0.000</td>\n",
       "      <td>26104244.240</td>\n",
       "    </tr>\n",
       "    <tr>\n",
       "      <th>rmse</th>\n",
       "      <td>0.000</td>\n",
       "      <td>5109.231</td>\n",
       "    </tr>\n",
       "  </tbody>\n",
       "</table>\n",
       "</div>"
      ],
      "text/plain": [
       "      train         test\n",
       "R2    1.000        0.764\n",
       "mae   0.000     1992.582\n",
       "mse   0.000 26104244.240\n",
       "rmse  0.000     5109.231"
      ]
     },
     "execution_count": 33,
     "metadata": {},
     "output_type": "execute_result"
    }
   ],
   "source": [
    "train_val(DT_model, X_train, y_train, X_test, y_test)"
   ]
  },
  {
   "cell_type": "code",
   "execution_count": 34,
   "id": "2ce1727c",
   "metadata": {},
   "outputs": [
    {
     "data": {
      "text/plain": [
       "test_r2                                    0.774\n",
       "test_neg_mean_absolute_error           -1920.515\n",
       "test_neg_mean_squared_error        -24102058.755\n",
       "test_neg_root_mean_squared_error       -4897.206\n",
       "dtype: float64"
      ]
     },
     "execution_count": 34,
     "metadata": {},
     "output_type": "execute_result"
    }
   ],
   "source": [
    "from sklearn.model_selection import cross_validate, cross_val_score\n",
    "model = DecisionTreeRegressor(random_state=101)\n",
    "scores = cross_validate(model, X_train, y_train, scoring=['r2', \n",
    "            'neg_mean_absolute_error','neg_mean_squared_error','neg_root_mean_squared_error'], cv =10)\n",
    "df_scores = pd.DataFrame(scores)\n",
    "df_scores.mean()[2:]"
   ]
  },
  {
   "cell_type": "code",
   "execution_count": 35,
   "id": "e35631ce",
   "metadata": {},
   "outputs": [
    {
     "data": {
      "text/html": [
       "<div>\n",
       "<style scoped>\n",
       "    .dataframe tbody tr th:only-of-type {\n",
       "        vertical-align: middle;\n",
       "    }\n",
       "\n",
       "    .dataframe tbody tr th {\n",
       "        vertical-align: top;\n",
       "    }\n",
       "\n",
       "    .dataframe thead th {\n",
       "        text-align: right;\n",
       "    }\n",
       "</style>\n",
       "<table border=\"1\" class=\"dataframe\">\n",
       "  <thead>\n",
       "    <tr style=\"text-align: right;\">\n",
       "      <th></th>\n",
       "      <th>Feature Importance</th>\n",
       "    </tr>\n",
       "  </thead>\n",
       "  <tbody>\n",
       "    <tr>\n",
       "      <th>sex</th>\n",
       "      <td>0.005</td>\n",
       "    </tr>\n",
       "    <tr>\n",
       "      <th>region</th>\n",
       "      <td>0.044</td>\n",
       "    </tr>\n",
       "    <tr>\n",
       "      <th>children</th>\n",
       "      <td>0.054</td>\n",
       "    </tr>\n",
       "    <tr>\n",
       "      <th>age</th>\n",
       "      <td>0.123</td>\n",
       "    </tr>\n",
       "    <tr>\n",
       "      <th>bmi</th>\n",
       "      <td>0.180</td>\n",
       "    </tr>\n",
       "    <tr>\n",
       "      <th>smoker</th>\n",
       "      <td>0.594</td>\n",
       "    </tr>\n",
       "  </tbody>\n",
       "</table>\n",
       "</div>"
      ],
      "text/plain": [
       "          Feature Importance\n",
       "sex                    0.005\n",
       "region                 0.044\n",
       "children               0.054\n",
       "age                    0.123\n",
       "bmi                    0.180\n",
       "smoker                 0.594"
      ]
     },
     "execution_count": 35,
     "metadata": {},
     "output_type": "execute_result"
    }
   ],
   "source": [
    "df_f_i = pd.DataFrame(index=X.columns, data = DT_model.feature_importances_, \n",
    "                      columns = [\"Feature Importance\"]).sort_values(\"Feature Importance\")\n",
    "df_f_i"
   ]
  },
  {
   "cell_type": "markdown",
   "id": "010872eb",
   "metadata": {},
   "source": [
    "# Random Forest"
   ]
  },
  {
   "cell_type": "code",
   "execution_count": 98,
   "id": "a9c8bddc",
   "metadata": {},
   "outputs": [],
   "source": [
    "from sklearn.ensemble import RandomForestRegressor"
   ]
  },
  {
   "cell_type": "code",
   "execution_count": 99,
   "id": "d3b6f6d0",
   "metadata": {},
   "outputs": [
    {
     "data": {
      "text/html": [
       "<div>\n",
       "<style scoped>\n",
       "    .dataframe tbody tr th:only-of-type {\n",
       "        vertical-align: middle;\n",
       "    }\n",
       "\n",
       "    .dataframe tbody tr th {\n",
       "        vertical-align: top;\n",
       "    }\n",
       "\n",
       "    .dataframe thead th {\n",
       "        text-align: right;\n",
       "    }\n",
       "</style>\n",
       "<table border=\"1\" class=\"dataframe\">\n",
       "  <thead>\n",
       "    <tr style=\"text-align: right;\">\n",
       "      <th></th>\n",
       "      <th>train</th>\n",
       "      <th>test</th>\n",
       "    </tr>\n",
       "  </thead>\n",
       "  <tbody>\n",
       "    <tr>\n",
       "      <th>R2</th>\n",
       "      <td>0.981</td>\n",
       "      <td>0.882</td>\n",
       "    </tr>\n",
       "    <tr>\n",
       "      <th>mae</th>\n",
       "      <td>680.139</td>\n",
       "      <td>1768.704</td>\n",
       "    </tr>\n",
       "    <tr>\n",
       "      <th>mse</th>\n",
       "      <td>2127168.054</td>\n",
       "      <td>13074858.536</td>\n",
       "    </tr>\n",
       "    <tr>\n",
       "      <th>rmse</th>\n",
       "      <td>1458.481</td>\n",
       "      <td>3615.917</td>\n",
       "    </tr>\n",
       "  </tbody>\n",
       "</table>\n",
       "</div>"
      ],
      "text/plain": [
       "           train         test\n",
       "R2         0.981        0.882\n",
       "mae      680.139     1768.704\n",
       "mse  2127168.054 13074858.536\n",
       "rmse    1458.481     3615.917"
      ]
     },
     "execution_count": 99,
     "metadata": {},
     "output_type": "execute_result"
    }
   ],
   "source": [
    "rf_model = RandomForestRegressor(random_state=101)\n",
    "rf_model.fit(X_train,y_train)\n",
    "train_val(rf_model, X_train, y_train, X_test, y_test)"
   ]
  },
  {
   "cell_type": "code",
   "execution_count": 100,
   "id": "ae9bdf34",
   "metadata": {},
   "outputs": [
    {
     "data": {
      "text/html": [
       "<div>\n",
       "<style scoped>\n",
       "    .dataframe tbody tr th:only-of-type {\n",
       "        vertical-align: middle;\n",
       "    }\n",
       "\n",
       "    .dataframe tbody tr th {\n",
       "        vertical-align: top;\n",
       "    }\n",
       "\n",
       "    .dataframe thead th {\n",
       "        text-align: right;\n",
       "    }\n",
       "</style>\n",
       "<table border=\"1\" class=\"dataframe\">\n",
       "  <thead>\n",
       "    <tr style=\"text-align: right;\">\n",
       "      <th></th>\n",
       "      <th>Feature Importance</th>\n",
       "    </tr>\n",
       "  </thead>\n",
       "  <tbody>\n",
       "    <tr>\n",
       "      <th>sex</th>\n",
       "      <td>0.006</td>\n",
       "    </tr>\n",
       "    <tr>\n",
       "      <th>region</th>\n",
       "      <td>0.039</td>\n",
       "    </tr>\n",
       "    <tr>\n",
       "      <th>children</th>\n",
       "      <td>0.061</td>\n",
       "    </tr>\n",
       "    <tr>\n",
       "      <th>age</th>\n",
       "      <td>0.129</td>\n",
       "    </tr>\n",
       "    <tr>\n",
       "      <th>bmi</th>\n",
       "      <td>0.174</td>\n",
       "    </tr>\n",
       "    <tr>\n",
       "      <th>smoker</th>\n",
       "      <td>0.592</td>\n",
       "    </tr>\n",
       "  </tbody>\n",
       "</table>\n",
       "</div>"
      ],
      "text/plain": [
       "          Feature Importance\n",
       "sex                    0.006\n",
       "region                 0.039\n",
       "children               0.061\n",
       "age                    0.129\n",
       "bmi                    0.174\n",
       "smoker                 0.592"
      ]
     },
     "execution_count": 100,
     "metadata": {},
     "output_type": "execute_result"
    }
   ],
   "source": [
    "df_f_i = pd.DataFrame(index=X.columns, data = rf_model.feature_importances_, \n",
    "                      columns = [\"Feature Importance\"]).sort_values(\"Feature Importance\")\n",
    "df_f_i"
   ]
  },
  {
   "cell_type": "markdown",
   "id": "33cdd865",
   "metadata": {},
   "source": [
    "# GridSearch CV"
   ]
  },
  {
   "cell_type": "code",
   "execution_count": 33,
   "id": "b9122977",
   "metadata": {},
   "outputs": [],
   "source": [
    "from sklearn.model_selection import GridSearchCV"
   ]
  },
  {
   "cell_type": "code",
   "execution_count": 102,
   "id": "7d3df5f3",
   "metadata": {},
   "outputs": [],
   "source": [
    "model = RandomForestRegressor(random_state=101)"
   ]
  },
  {
   "cell_type": "code",
   "execution_count": 103,
   "id": "19fcc5cd",
   "metadata": {},
   "outputs": [],
   "source": [
    "param_grid = {\"n_estimators\":[200, 500],\n",
    "              \"max_depth\": [None, 4, 5, 6, 7,8],\n",
    "              \"min_samples_leaf\": [1, 2, 3, 4],\n",
    "              \"min_samples_split\": [2, 3, 5, 6],\n",
    "              \"max_features\":['auto', len(df)/3, 2, 4]}"
   ]
  },
  {
   "cell_type": "code",
   "execution_count": 104,
   "id": "1f03b1a4",
   "metadata": {},
   "outputs": [],
   "source": [
    "\n",
    "grid_model = GridSearchCV(estimator=model,\n",
    "                          param_grid=param_grid,\n",
    "                          scoring='neg_root_mean_squared_error',\n",
    "                          cv=10,\n",
    "                          n_jobs = -1)"
   ]
  },
  {
   "cell_type": "code",
   "execution_count": 105,
   "id": "a5b99ceb",
   "metadata": {},
   "outputs": [
    {
     "data": {
      "text/plain": [
       "GridSearchCV(cv=10, estimator=RandomForestRegressor(random_state=101),\n",
       "             n_jobs=-1,\n",
       "             param_grid={'max_depth': [None, 4, 5, 6, 7, 8],\n",
       "                         'max_features': ['auto', 833.3333333333334, 2, 4],\n",
       "                         'min_samples_leaf': [1, 2, 3, 4],\n",
       "                         'min_samples_split': [2, 3, 5, 6],\n",
       "                         'n_estimators': [200, 500]},\n",
       "             scoring='neg_root_mean_squared_error')"
      ]
     },
     "execution_count": 105,
     "metadata": {},
     "output_type": "execute_result"
    }
   ],
   "source": [
    "grid_model.fit(X_train,y_train)"
   ]
  },
  {
   "cell_type": "code",
   "execution_count": 106,
   "id": "ad1cf904",
   "metadata": {},
   "outputs": [
    {
     "data": {
      "text/html": [
       "<div>\n",
       "<style scoped>\n",
       "    .dataframe tbody tr th:only-of-type {\n",
       "        vertical-align: middle;\n",
       "    }\n",
       "\n",
       "    .dataframe tbody tr th {\n",
       "        vertical-align: top;\n",
       "    }\n",
       "\n",
       "    .dataframe thead th {\n",
       "        text-align: right;\n",
       "    }\n",
       "</style>\n",
       "<table border=\"1\" class=\"dataframe\">\n",
       "  <thead>\n",
       "    <tr style=\"text-align: right;\">\n",
       "      <th></th>\n",
       "      <th>train</th>\n",
       "      <th>test</th>\n",
       "    </tr>\n",
       "  </thead>\n",
       "  <tbody>\n",
       "    <tr>\n",
       "      <th>R2</th>\n",
       "      <td>0.963</td>\n",
       "      <td>0.891</td>\n",
       "    </tr>\n",
       "    <tr>\n",
       "      <th>mae</th>\n",
       "      <td>960.239</td>\n",
       "      <td>1745.143</td>\n",
       "    </tr>\n",
       "    <tr>\n",
       "      <th>mse</th>\n",
       "      <td>4094737.660</td>\n",
       "      <td>12068456.951</td>\n",
       "    </tr>\n",
       "    <tr>\n",
       "      <th>rmse</th>\n",
       "      <td>2023.546</td>\n",
       "      <td>3473.968</td>\n",
       "    </tr>\n",
       "  </tbody>\n",
       "</table>\n",
       "</div>"
      ],
      "text/plain": [
       "           train         test\n",
       "R2         0.963        0.891\n",
       "mae      960.239     1745.143\n",
       "mse  4094737.660 12068456.951\n",
       "rmse    2023.546     3473.968"
      ]
     },
     "execution_count": 106,
     "metadata": {},
     "output_type": "execute_result"
    }
   ],
   "source": [
    "train_val(grid_model, X_train, y_train, X_test, y_test)"
   ]
  },
  {
   "cell_type": "code",
   "execution_count": 107,
   "id": "b45ad7ac",
   "metadata": {},
   "outputs": [
    {
     "data": {
      "text/plain": [
       "{'max_depth': None,\n",
       " 'max_features': 4,\n",
       " 'min_samples_leaf': 1,\n",
       " 'min_samples_split': 5,\n",
       " 'n_estimators': 200}"
      ]
     },
     "execution_count": 107,
     "metadata": {},
     "output_type": "execute_result"
    }
   ],
   "source": [
    "grid_model.best_params_"
   ]
  },
  {
   "cell_type": "code",
   "execution_count": 108,
   "id": "7161cbd2",
   "metadata": {},
   "outputs": [
    {
     "data": {
      "text/plain": [
       "test_r2                                    0.865\n",
       "test_neg_mean_absolute_error           -1855.338\n",
       "test_neg_mean_squared_error        -14558392.961\n",
       "test_neg_root_mean_squared_error       -3799.937\n",
       "dtype: float64"
      ]
     },
     "execution_count": 108,
     "metadata": {},
     "output_type": "execute_result"
    }
   ],
   "source": [
    "from sklearn.model_selection import cross_validate, cross_val_score\n",
    "\n",
    "model = RandomForestRegressor(random_state=101, max_depth = None,\n",
    "             max_features= 4,\n",
    "             min_samples_leaf = 1,\n",
    "             min_samples_split= 5,\n",
    "             n_estimators= 200)\n",
    "scores = cross_validate(model, X_train, y_train, scoring=['r2', \n",
    "            'neg_mean_absolute_error','neg_mean_squared_error','neg_root_mean_squared_error'], cv = 10)\n",
    "df_scores = pd.DataFrame(scores)\n",
    "df_scores.mean()[2:]"
   ]
  },
  {
   "cell_type": "markdown",
   "id": "d9e541f7",
   "metadata": {},
   "source": [
    "# XGboost"
   ]
  },
  {
   "cell_type": "code",
   "execution_count": 34,
   "id": "065266ce",
   "metadata": {},
   "outputs": [],
   "source": [
    "from xgboost import XGBRegressor"
   ]
  },
  {
   "cell_type": "code",
   "execution_count": 110,
   "id": "c04c936e",
   "metadata": {},
   "outputs": [],
   "source": [
    "xgb_model = XGBRegressor(random_state=101, objective=\"reg:squarederror\") #objective=\"reg:squarederror\""
   ]
  },
  {
   "cell_type": "code",
   "execution_count": 111,
   "id": "6f6d7383",
   "metadata": {},
   "outputs": [
    {
     "data": {
      "text/plain": [
       "XGBRegressor(base_score=0.5, booster='gbtree', colsample_bylevel=1,\n",
       "             colsample_bynode=1, colsample_bytree=1, enable_categorical=False,\n",
       "             gamma=0, gpu_id=-1, importance_type=None,\n",
       "             interaction_constraints='', learning_rate=0.300000012,\n",
       "             max_delta_step=0, max_depth=6, min_child_weight=1, missing=nan,\n",
       "             monotone_constraints='()', n_estimators=100, n_jobs=16,\n",
       "             num_parallel_tree=1, predictor='auto', random_state=101,\n",
       "             reg_alpha=0, reg_lambda=1, scale_pos_weight=1, subsample=1,\n",
       "             tree_method='exact', validate_parameters=1, verbosity=None)"
      ]
     },
     "execution_count": 111,
     "metadata": {},
     "output_type": "execute_result"
    }
   ],
   "source": [
    "xgb_model.fit(X_train, y_train)"
   ]
  },
  {
   "cell_type": "code",
   "execution_count": 112,
   "id": "bbc92da7",
   "metadata": {},
   "outputs": [
    {
     "data": {
      "text/html": [
       "<div>\n",
       "<style scoped>\n",
       "    .dataframe tbody tr th:only-of-type {\n",
       "        vertical-align: middle;\n",
       "    }\n",
       "\n",
       "    .dataframe tbody tr th {\n",
       "        vertical-align: top;\n",
       "    }\n",
       "\n",
       "    .dataframe thead th {\n",
       "        text-align: right;\n",
       "    }\n",
       "</style>\n",
       "<table border=\"1\" class=\"dataframe\">\n",
       "  <thead>\n",
       "    <tr style=\"text-align: right;\">\n",
       "      <th></th>\n",
       "      <th>train</th>\n",
       "      <th>test</th>\n",
       "    </tr>\n",
       "  </thead>\n",
       "  <tbody>\n",
       "    <tr>\n",
       "      <th>R2</th>\n",
       "      <td>0.993</td>\n",
       "      <td>0.857</td>\n",
       "    </tr>\n",
       "    <tr>\n",
       "      <th>mae</th>\n",
       "      <td>511.134</td>\n",
       "      <td>2127.558</td>\n",
       "    </tr>\n",
       "    <tr>\n",
       "      <th>mse</th>\n",
       "      <td>799660.754</td>\n",
       "      <td>15791075.949</td>\n",
       "    </tr>\n",
       "    <tr>\n",
       "      <th>rmse</th>\n",
       "      <td>894.238</td>\n",
       "      <td>3973.799</td>\n",
       "    </tr>\n",
       "  </tbody>\n",
       "</table>\n",
       "</div>"
      ],
      "text/plain": [
       "          train         test\n",
       "R2        0.993        0.857\n",
       "mae     511.134     2127.558\n",
       "mse  799660.754 15791075.949\n",
       "rmse    894.238     3973.799"
      ]
     },
     "execution_count": 112,
     "metadata": {},
     "output_type": "execute_result"
    }
   ],
   "source": [
    "train_val(xgb_model, X_train, y_train, X_test, y_test)"
   ]
  },
  {
   "cell_type": "code",
   "execution_count": 113,
   "id": "7c702a01",
   "metadata": {},
   "outputs": [
    {
     "data": {
      "text/plain": [
       "test_r2                                    0.838\n",
       "test_neg_mean_absolute_error           -2140.953\n",
       "test_neg_mean_squared_error        -17411135.150\n",
       "test_neg_root_mean_squared_error       -4162.528\n",
       "dtype: float64"
      ]
     },
     "execution_count": 113,
     "metadata": {},
     "output_type": "execute_result"
    }
   ],
   "source": [
    "model = XGBRegressor(random_state=101, objective=\"reg:squarederror\")\n",
    "scores = cross_validate(model, X_train, y_train, scoring=['r2', \n",
    "            'neg_mean_absolute_error','neg_mean_squared_error','neg_root_mean_squared_error'], cv =10)\n",
    "pd.DataFrame(scores).iloc[:, 2:].mean()"
   ]
  },
  {
   "cell_type": "code",
   "execution_count": 115,
   "id": "56aad24a",
   "metadata": {},
   "outputs": [],
   "source": [
    "param_grid = {\"n_estimators\":[100, 300,500],'max_depth':[3,5,6,7], \"learning_rate\": [0.05, 0.1, 0.2],\n",
    "             \"subsample\":[0.5, 1], \"colsample_bytree\":[0.5, 1]}"
   ]
  },
  {
   "cell_type": "code",
   "execution_count": 116,
   "id": "0bbe4c28",
   "metadata": {},
   "outputs": [],
   "source": [
    "model = XGBRegressor(random_state=101, objective=\"reg:squarederror\")\n",
    "grid_model = GridSearchCV(estimator=model,\n",
    "                          param_grid=param_grid,\n",
    "                          scoring='neg_root_mean_squared_error',\n",
    "                          cv=10,\n",
    "                          n_jobs = -1)"
   ]
  },
  {
   "cell_type": "code",
   "execution_count": 117,
   "id": "2a89d1cd",
   "metadata": {},
   "outputs": [
    {
     "data": {
      "text/plain": [
       "GridSearchCV(cv=10,\n",
       "             estimator=XGBRegressor(base_score=None, booster=None,\n",
       "                                    colsample_bylevel=None,\n",
       "                                    colsample_bynode=None,\n",
       "                                    colsample_bytree=None,\n",
       "                                    enable_categorical=False, gamma=None,\n",
       "                                    gpu_id=None, importance_type=None,\n",
       "                                    interaction_constraints=None,\n",
       "                                    learning_rate=None, max_delta_step=None,\n",
       "                                    max_depth=None, min_child_weight=None,\n",
       "                                    missing=nan, monotone_constraints=None,...\n",
       "                                    num_parallel_tree=None, predictor=None,\n",
       "                                    random_state=101, reg_alpha=None,\n",
       "                                    reg_lambda=None, scale_pos_weight=None,\n",
       "                                    subsample=None, tree_method=None,\n",
       "                                    validate_parameters=None, verbosity=None),\n",
       "             n_jobs=-1,\n",
       "             param_grid={'colsample_bytree': [0.5, 1],\n",
       "                         'learning_rate': [0.05, 0.1, 0.2],\n",
       "                         'max_depth': [3, 5, 6, 7],\n",
       "                         'n_estimators': [100, 300, 500],\n",
       "                         'subsample': [0.5, 1]},\n",
       "             scoring='neg_root_mean_squared_error')"
      ]
     },
     "execution_count": 117,
     "metadata": {},
     "output_type": "execute_result"
    }
   ],
   "source": [
    "grid_model.fit(X_train, y_train)"
   ]
  },
  {
   "cell_type": "code",
   "execution_count": 118,
   "id": "060b7b14",
   "metadata": {},
   "outputs": [
    {
     "data": {
      "text/plain": [
       "{'colsample_bytree': 1,\n",
       " 'learning_rate': 0.05,\n",
       " 'max_depth': 6,\n",
       " 'n_estimators': 100,\n",
       " 'subsample': 1}"
      ]
     },
     "execution_count": 118,
     "metadata": {},
     "output_type": "execute_result"
    }
   ],
   "source": [
    "grid_model.best_params_"
   ]
  },
  {
   "cell_type": "code",
   "execution_count": 119,
   "id": "e4818270",
   "metadata": {},
   "outputs": [
    {
     "data": {
      "text/html": [
       "<div>\n",
       "<style scoped>\n",
       "    .dataframe tbody tr th:only-of-type {\n",
       "        vertical-align: middle;\n",
       "    }\n",
       "\n",
       "    .dataframe tbody tr th {\n",
       "        vertical-align: top;\n",
       "    }\n",
       "\n",
       "    .dataframe thead th {\n",
       "        text-align: right;\n",
       "    }\n",
       "</style>\n",
       "<table border=\"1\" class=\"dataframe\">\n",
       "  <thead>\n",
       "    <tr style=\"text-align: right;\">\n",
       "      <th></th>\n",
       "      <th>train</th>\n",
       "      <th>test</th>\n",
       "    </tr>\n",
       "  </thead>\n",
       "  <tbody>\n",
       "    <tr>\n",
       "      <th>R2</th>\n",
       "      <td>0.934</td>\n",
       "      <td>0.891</td>\n",
       "    </tr>\n",
       "    <tr>\n",
       "      <th>mae</th>\n",
       "      <td>1327.728</td>\n",
       "      <td>1756.160</td>\n",
       "    </tr>\n",
       "    <tr>\n",
       "      <th>mse</th>\n",
       "      <td>7286803.836</td>\n",
       "      <td>12071478.751</td>\n",
       "    </tr>\n",
       "    <tr>\n",
       "      <th>rmse</th>\n",
       "      <td>2699.408</td>\n",
       "      <td>3474.403</td>\n",
       "    </tr>\n",
       "  </tbody>\n",
       "</table>\n",
       "</div>"
      ],
      "text/plain": [
       "           train         test\n",
       "R2         0.934        0.891\n",
       "mae     1327.728     1756.160\n",
       "mse  7286803.836 12071478.751\n",
       "rmse    2699.408     3474.403"
      ]
     },
     "execution_count": 119,
     "metadata": {},
     "output_type": "execute_result"
    }
   ],
   "source": [
    "train_val(grid_model, X_train, y_train, X_test, y_test)"
   ]
  },
  {
   "cell_type": "markdown",
   "id": "3f1ef186",
   "metadata": {},
   "source": [
    "# Feature importance"
   ]
  },
  {
   "cell_type": "code",
   "execution_count": 120,
   "id": "a58f35cc",
   "metadata": {},
   "outputs": [
    {
     "name": "stdout",
     "output_type": "stream",
     "text": [
      "[19:54:23] WARNING: C:/Users/Administrator/workspace/xgboost-win64_release_1.5.1/src/learner.cc:576: \n",
      "Parameters: { \"max_dept\" } might not be used.\n",
      "\n",
      "  This could be a false alarm, with some parameters getting used by language bindings but\n",
      "  then being mistakenly passed down to XGBoost core, or some parameter actually being used\n",
      "  but getting flagged wrongly here. Please open an issue if you find any such cases.\n",
      "\n",
      "\n"
     ]
    },
    {
     "data": {
      "text/plain": [
       "XGBRegressor(base_score=0.5, booster='gbtree', colsample_bylevel=1,\n",
       "             colsample_bynode=1, colsample_bytree=1, enable_categorical=False,\n",
       "             gamma=0, gpu_id=-1, importance_type=None,\n",
       "             interaction_constraints='', learning_rate=0.05, max_delta_step=0,\n",
       "             max_dept=6, max_depth=6, min_child_weight=1, missing=nan,\n",
       "             monotone_constraints='()', n_estimators=100, n_jobs=16,\n",
       "             num_parallel_tree=1, predictor='auto', random_state=101,\n",
       "             reg_alpha=0, reg_lambda=1, scale_pos_weight=1, subsample=1,\n",
       "             tree_method='exact', validate_parameters=1, verbosity=None)"
      ]
     },
     "execution_count": 120,
     "metadata": {},
     "output_type": "execute_result"
    }
   ],
   "source": [
    "model = XGBRegressor(random_state=101, objective=\"reg:squarederror\",learning_rate=0.05, max_dept=6, subsample=1)\n",
    "model.fit(X_train, y_train)"
   ]
  },
  {
   "cell_type": "code",
   "execution_count": 121,
   "id": "72e1db97",
   "metadata": {},
   "outputs": [
    {
     "data": {
      "text/html": [
       "<div>\n",
       "<style scoped>\n",
       "    .dataframe tbody tr th:only-of-type {\n",
       "        vertical-align: middle;\n",
       "    }\n",
       "\n",
       "    .dataframe tbody tr th {\n",
       "        vertical-align: top;\n",
       "    }\n",
       "\n",
       "    .dataframe thead th {\n",
       "        text-align: right;\n",
       "    }\n",
       "</style>\n",
       "<table border=\"1\" class=\"dataframe\">\n",
       "  <thead>\n",
       "    <tr style=\"text-align: right;\">\n",
       "      <th></th>\n",
       "      <th>xgb_Importance</th>\n",
       "    </tr>\n",
       "  </thead>\n",
       "  <tbody>\n",
       "    <tr>\n",
       "      <th>sex</th>\n",
       "      <td>0.003</td>\n",
       "    </tr>\n",
       "    <tr>\n",
       "      <th>age</th>\n",
       "      <td>0.009</td>\n",
       "    </tr>\n",
       "    <tr>\n",
       "      <th>children</th>\n",
       "      <td>0.012</td>\n",
       "    </tr>\n",
       "    <tr>\n",
       "      <th>bmi</th>\n",
       "      <td>0.014</td>\n",
       "    </tr>\n",
       "    <tr>\n",
       "      <th>region</th>\n",
       "      <td>0.015</td>\n",
       "    </tr>\n",
       "    <tr>\n",
       "      <th>smoker</th>\n",
       "      <td>0.947</td>\n",
       "    </tr>\n",
       "  </tbody>\n",
       "</table>\n",
       "</div>"
      ],
      "text/plain": [
       "          xgb_Importance\n",
       "sex                0.003\n",
       "age                0.009\n",
       "children           0.012\n",
       "bmi                0.014\n",
       "region             0.015\n",
       "smoker             0.947"
      ]
     },
     "execution_count": 121,
     "metadata": {},
     "output_type": "execute_result"
    }
   ],
   "source": [
    "imp_feats = pd.DataFrame(index=X.columns,data=model.feature_importances_,columns=['xgb_Importance'])\n",
    "xgb_imp_feats = imp_feats.sort_values('xgb_Importance')\n",
    "xgb_imp_feats"
   ]
  },
  {
   "cell_type": "markdown",
   "id": "9dbafda5",
   "metadata": {},
   "source": [
    "# New model"
   ]
  },
  {
   "cell_type": "code",
   "execution_count": 36,
   "id": "a9f5febe",
   "metadata": {},
   "outputs": [],
   "source": [
    "X_new = X[[\"smoker\", \"region\"]]"
   ]
  },
  {
   "cell_type": "code",
   "execution_count": 37,
   "id": "bcdbae99",
   "metadata": {},
   "outputs": [
    {
     "data": {
      "text/html": [
       "<div>\n",
       "<style scoped>\n",
       "    .dataframe tbody tr th:only-of-type {\n",
       "        vertical-align: middle;\n",
       "    }\n",
       "\n",
       "    .dataframe tbody tr th {\n",
       "        vertical-align: top;\n",
       "    }\n",
       "\n",
       "    .dataframe thead th {\n",
       "        text-align: right;\n",
       "    }\n",
       "</style>\n",
       "<table border=\"1\" class=\"dataframe\">\n",
       "  <thead>\n",
       "    <tr style=\"text-align: right;\">\n",
       "      <th></th>\n",
       "      <th>smoker</th>\n",
       "      <th>region</th>\n",
       "    </tr>\n",
       "  </thead>\n",
       "  <tbody>\n",
       "    <tr>\n",
       "      <th>0</th>\n",
       "      <td>0.000</td>\n",
       "      <td>0.000</td>\n",
       "    </tr>\n",
       "    <tr>\n",
       "      <th>1</th>\n",
       "      <td>1.000</td>\n",
       "      <td>2.000</td>\n",
       "    </tr>\n",
       "    <tr>\n",
       "      <th>2</th>\n",
       "      <td>0.000</td>\n",
       "      <td>2.000</td>\n",
       "    </tr>\n",
       "    <tr>\n",
       "      <th>3</th>\n",
       "      <td>0.000</td>\n",
       "      <td>0.000</td>\n",
       "    </tr>\n",
       "    <tr>\n",
       "      <th>4</th>\n",
       "      <td>0.000</td>\n",
       "      <td>2.000</td>\n",
       "    </tr>\n",
       "    <tr>\n",
       "      <th>...</th>\n",
       "      <td>...</td>\n",
       "      <td>...</td>\n",
       "    </tr>\n",
       "    <tr>\n",
       "      <th>2495</th>\n",
       "      <td>0.000</td>\n",
       "      <td>2.000</td>\n",
       "    </tr>\n",
       "    <tr>\n",
       "      <th>2496</th>\n",
       "      <td>0.000</td>\n",
       "      <td>0.000</td>\n",
       "    </tr>\n",
       "    <tr>\n",
       "      <th>2497</th>\n",
       "      <td>0.000</td>\n",
       "      <td>1.000</td>\n",
       "    </tr>\n",
       "    <tr>\n",
       "      <th>2498</th>\n",
       "      <td>0.000</td>\n",
       "      <td>1.000</td>\n",
       "    </tr>\n",
       "    <tr>\n",
       "      <th>2499</th>\n",
       "      <td>0.000</td>\n",
       "      <td>3.000</td>\n",
       "    </tr>\n",
       "  </tbody>\n",
       "</table>\n",
       "<p>2484 rows × 2 columns</p>\n",
       "</div>"
      ],
      "text/plain": [
       "      smoker  region\n",
       "0      0.000   0.000\n",
       "1      1.000   2.000\n",
       "2      0.000   2.000\n",
       "3      0.000   0.000\n",
       "4      0.000   2.000\n",
       "...      ...     ...\n",
       "2495   0.000   2.000\n",
       "2496   0.000   0.000\n",
       "2497   0.000   1.000\n",
       "2498   0.000   1.000\n",
       "2499   0.000   3.000\n",
       "\n",
       "[2484 rows x 2 columns]"
      ]
     },
     "execution_count": 37,
     "metadata": {},
     "output_type": "execute_result"
    }
   ],
   "source": [
    "X_new"
   ]
  },
  {
   "cell_type": "code",
   "execution_count": 38,
   "id": "10209268",
   "metadata": {},
   "outputs": [],
   "source": [
    "X_train, X_test, y_train, y_test = train_test_split(X_new, y, test_size=0.2, random_state=101)"
   ]
  },
  {
   "cell_type": "code",
   "execution_count": 39,
   "id": "e33a6752",
   "metadata": {},
   "outputs": [],
   "source": [
    "model = XGBRegressor(random_state=101, objective=\"reg:squarederror\",learning_rate=0.05, max_dept=6, subsample=1)"
   ]
  },
  {
   "cell_type": "code",
   "execution_count": 40,
   "id": "203361c2",
   "metadata": {},
   "outputs": [
    {
     "name": "stdout",
     "output_type": "stream",
     "text": [
      "[17:54:33] WARNING: C:/Users/Administrator/workspace/xgboost-win64_release_1.5.1/src/learner.cc:576: \n",
      "Parameters: { \"max_dept\" } might not be used.\n",
      "\n",
      "  This could be a false alarm, with some parameters getting used by language bindings but\n",
      "  then being mistakenly passed down to XGBoost core, or some parameter actually being used\n",
      "  but getting flagged wrongly here. Please open an issue if you find any such cases.\n",
      "\n",
      "\n"
     ]
    },
    {
     "data": {
      "text/plain": [
       "XGBRegressor(base_score=0.5, booster='gbtree', colsample_bylevel=1,\n",
       "             colsample_bynode=1, colsample_bytree=1, enable_categorical=False,\n",
       "             gamma=0, gpu_id=-1, importance_type=None,\n",
       "             interaction_constraints='', learning_rate=0.05, max_delta_step=0,\n",
       "             max_dept=6, max_depth=6, min_child_weight=1, missing=nan,\n",
       "             monotone_constraints='()', n_estimators=100, n_jobs=16,\n",
       "             num_parallel_tree=1, predictor='auto', random_state=101,\n",
       "             reg_alpha=0, reg_lambda=1, scale_pos_weight=1, subsample=1,\n",
       "             tree_method='exact', validate_parameters=1, verbosity=None)"
      ]
     },
     "execution_count": 40,
     "metadata": {},
     "output_type": "execute_result"
    }
   ],
   "source": [
    "model.fit(X_train, y_train)"
   ]
  },
  {
   "cell_type": "code",
   "execution_count": 41,
   "id": "fb1a5fcb",
   "metadata": {},
   "outputs": [
    {
     "data": {
      "text/html": [
       "<div>\n",
       "<style scoped>\n",
       "    .dataframe tbody tr th:only-of-type {\n",
       "        vertical-align: middle;\n",
       "    }\n",
       "\n",
       "    .dataframe tbody tr th {\n",
       "        vertical-align: top;\n",
       "    }\n",
       "\n",
       "    .dataframe thead th {\n",
       "        text-align: right;\n",
       "    }\n",
       "</style>\n",
       "<table border=\"1\" class=\"dataframe\">\n",
       "  <thead>\n",
       "    <tr style=\"text-align: right;\">\n",
       "      <th></th>\n",
       "      <th>train</th>\n",
       "      <th>test</th>\n",
       "    </tr>\n",
       "  </thead>\n",
       "  <tbody>\n",
       "    <tr>\n",
       "      <th>R2</th>\n",
       "      <td>0.618</td>\n",
       "      <td>0.577</td>\n",
       "    </tr>\n",
       "    <tr>\n",
       "      <th>mae</th>\n",
       "      <td>4768.403</td>\n",
       "      <td>5205.977</td>\n",
       "    </tr>\n",
       "    <tr>\n",
       "      <th>mse</th>\n",
       "      <td>42138183.547</td>\n",
       "      <td>46760378.457</td>\n",
       "    </tr>\n",
       "    <tr>\n",
       "      <th>rmse</th>\n",
       "      <td>6491.393</td>\n",
       "      <td>6838.156</td>\n",
       "    </tr>\n",
       "  </tbody>\n",
       "</table>\n",
       "</div>"
      ],
      "text/plain": [
       "            train         test\n",
       "R2          0.618        0.577\n",
       "mae      4768.403     5205.977\n",
       "mse  42138183.547 46760378.457\n",
       "rmse     6491.393     6838.156"
      ]
     },
     "execution_count": 41,
     "metadata": {},
     "output_type": "execute_result"
    }
   ],
   "source": [
    "train_val(model, X_train, y_train, X_test, y_test)"
   ]
  },
  {
   "cell_type": "markdown",
   "id": "29b50517",
   "metadata": {},
   "source": [
    "# Final Model"
   ]
  },
  {
   "cell_type": "markdown",
   "id": "ea4e7892",
   "metadata": {},
   "source": [
    "''' param_grid = {\"n_estimators\":100,'max_depth':6, \"learning_rate\": 0.05,\n",
    "             \"subsample\":1, \"colsample_bytree\":1}'''"
   ]
  },
  {
   "cell_type": "code",
   "execution_count": 43,
   "id": "c23544f3",
   "metadata": {},
   "outputs": [],
   "source": [
    "final_model = XGBRegressor(random_state=101, n_estimators=100, max_depth = 6, learning_rate = 0.05,\n",
    "             subsample = 1, colsample_bytree =1,  objective=\"reg:squarederror\")"
   ]
  },
  {
   "cell_type": "code",
   "execution_count": 44,
   "id": "4f3f004b",
   "metadata": {},
   "outputs": [
    {
     "data": {
      "text/plain": [
       "XGBRegressor(base_score=0.5, booster='gbtree', colsample_bylevel=1,\n",
       "             colsample_bynode=1, colsample_bytree=1, enable_categorical=False,\n",
       "             gamma=0, gpu_id=-1, importance_type=None,\n",
       "             interaction_constraints='', learning_rate=0.05, max_delta_step=0,\n",
       "             max_depth=6, min_child_weight=1, missing=nan,\n",
       "             monotone_constraints='()', n_estimators=100, n_jobs=16,\n",
       "             num_parallel_tree=1, predictor='auto', random_state=101,\n",
       "             reg_alpha=0, reg_lambda=1, scale_pos_weight=1, subsample=1,\n",
       "             tree_method='exact', validate_parameters=1, verbosity=None)"
      ]
     },
     "execution_count": 44,
     "metadata": {},
     "output_type": "execute_result"
    }
   ],
   "source": [
    "final_model.fit(X,y)"
   ]
  },
  {
   "cell_type": "markdown",
   "id": "1f05a4da",
   "metadata": {},
   "source": [
    "# test data encoder"
   ]
  },
  {
   "cell_type": "code",
   "execution_count": 45,
   "id": "294898af",
   "metadata": {},
   "outputs": [
    {
     "data": {
      "text/html": [
       "<div>\n",
       "<style scoped>\n",
       "    .dataframe tbody tr th:only-of-type {\n",
       "        vertical-align: middle;\n",
       "    }\n",
       "\n",
       "    .dataframe tbody tr th {\n",
       "        vertical-align: top;\n",
       "    }\n",
       "\n",
       "    .dataframe thead th {\n",
       "        text-align: right;\n",
       "    }\n",
       "</style>\n",
       "<table border=\"1\" class=\"dataframe\">\n",
       "  <thead>\n",
       "    <tr style=\"text-align: right;\">\n",
       "      <th></th>\n",
       "      <th>age</th>\n",
       "      <th>sex</th>\n",
       "      <th>bmi</th>\n",
       "      <th>smoker</th>\n",
       "      <th>region</th>\n",
       "      <th>children</th>\n",
       "    </tr>\n",
       "  </thead>\n",
       "  <tbody>\n",
       "    <tr>\n",
       "      <th>0</th>\n",
       "      <td>39.297</td>\n",
       "      <td>1.000</td>\n",
       "      <td>29.978</td>\n",
       "      <td>0.000</td>\n",
       "      <td>1.000</td>\n",
       "      <td>4</td>\n",
       "    </tr>\n",
       "    <tr>\n",
       "      <th>1</th>\n",
       "      <td>40.368</td>\n",
       "      <td>0.000</td>\n",
       "      <td>27.928</td>\n",
       "      <td>0.000</td>\n",
       "      <td>2.000</td>\n",
       "      <td>5</td>\n",
       "    </tr>\n",
       "    <tr>\n",
       "      <th>2</th>\n",
       "      <td>32.882</td>\n",
       "      <td>1.000</td>\n",
       "      <td>41.577</td>\n",
       "      <td>0.000</td>\n",
       "      <td>3.000</td>\n",
       "      <td>5</td>\n",
       "    </tr>\n",
       "    <tr>\n",
       "      <th>3</th>\n",
       "      <td>62.000</td>\n",
       "      <td>0.000</td>\n",
       "      <td>30.495</td>\n",
       "      <td>0.000</td>\n",
       "      <td>1.000</td>\n",
       "      <td>2</td>\n",
       "    </tr>\n",
       "    <tr>\n",
       "      <th>4</th>\n",
       "      <td>32.476</td>\n",
       "      <td>1.000</td>\n",
       "      <td>30.323</td>\n",
       "      <td>1.000</td>\n",
       "      <td>0.000</td>\n",
       "      <td>4</td>\n",
       "    </tr>\n",
       "  </tbody>\n",
       "</table>\n",
       "</div>"
      ],
      "text/plain": [
       "     age   sex    bmi  smoker  region  children\n",
       "0 39.297 1.000 29.978   0.000   1.000         4\n",
       "1 40.368 0.000 27.928   0.000   2.000         5\n",
       "2 32.882 1.000 41.577   0.000   3.000         5\n",
       "3 62.000 0.000 30.495   0.000   1.000         2\n",
       "4 32.476 1.000 30.323   1.000   0.000         4"
      ]
     },
     "execution_count": 45,
     "metadata": {},
     "output_type": "execute_result"
    }
   ],
   "source": [
    "enc = OrdinalEncoder()\n",
    "test[cat] = enc.fit_transform(test[cat])\n",
    "test.head()"
   ]
  },
  {
   "cell_type": "code",
   "execution_count": 46,
   "id": "9243b6e4",
   "metadata": {},
   "outputs": [],
   "source": [
    "final_pred=final_model.predict(test)"
   ]
  },
  {
   "cell_type": "code",
   "execution_count": 47,
   "id": "95d641b0",
   "metadata": {},
   "outputs": [
    {
     "data": {
      "text/plain": [
       "array([ 8336.655 ,  9350.617 ,  6390.451 , 15763.419 , 33877.92  ,\n",
       "        6744.1016, 10137.772 ,  9624.716 ,  9588.571 ,  1829.4233,\n",
       "       10534.171 ,  3828.1936, 12502.459 ,  8271.186 , 11625.326 ,\n",
       "        6529.269 ,  7576.6274,  4958.951 ,  3509.394 , 38617.918 ,\n",
       "        4497.32  , 12059.49  , 30804.785 , 31008.283 ,  8392.55  ,\n",
       "        6049.6333, 14450.998 ,  3077.9321,  3705.9229, 25177.195 ,\n",
       "        4882.6846,  5957.899 ,  4942.9097, 10466.57  , 37649.71  ,\n",
       "        6138.259 , 18504.283 , 10633.828 , 10466.57  , 47960.8   ,\n",
       "       15278.132 , 12307.723 , 18441.121 , 38250.957 ,  6233.161 ,\n",
       "        6936.115 ,  6357.2886, 10961.382 , 14210.225 , 17158.    ,\n",
       "       11696.39  ,  5003.805 , 12091.192 , 11025.405 , 10835.664 ,\n",
       "       37162.383 ,  9519.089 , 11459.274 ,  8168.7573, 11085.392 ,\n",
       "        5138.6997, 42204.73  , 39827.734 , 35411.656 , 10552.967 ,\n",
       "        9913.963 ,  6836.546 ,  6110.887 ,  7204.3647, 38669.695 ,\n",
       "       12634.491 ,  7956.664 ,  5934.718 , 12742.077 , 11110.311 ,\n",
       "       11110.311 , 22848.146 , 14210.225 , 38578.098 , 11728.987 ,\n",
       "        6398.342 , 45464.336 , 46966.637 ,  3470.8684,  4925.3345,\n",
       "       20698.324 , 18418.639 ,  6544.621 ,  9597.092 , 11774.955 ,\n",
       "        5134.4614, 16832.387 , 11001.867 , 12306.695 ,  4942.9097,\n",
       "        5502.207 ,  6752.6836,  6133.4136,  4417.992 , 10912.683 ,\n",
       "        9909.101 ,  2020.217 ,  9145.666 ,  7534.0835, 40304.066 ,\n",
       "       22448.18  ,  8621.826 ,  2794.6438, 18719.846 , 18183.451 ,\n",
       "       11110.311 , 19539.012 , 10703.517 ,  4891.341 ,  7409.2446,\n",
       "        6230.028 ,  6449.4644,  7086.2065, 47263.2   , 19704.986 ,\n",
       "       10612.116 ,  7658.4565, 12049.515 , 19567.066 ,  6107.8477,\n",
       "        7123.8364, 10535.723 , 11333.565 , 12468.351 ,  7608.659 ,\n",
       "        7788.066 , 12601.227 ,  6455.0156,  6023.7227, 10820.625 ,\n",
       "        6058.1406, 45592.19  ,  6962.1045,  7082.1543, 12531.548 ,\n",
       "       18943.611 ,  8249.351 , 11265.205 ,  6058.1406, 40814.46  ,\n",
       "       12488.48  ,  6752.2573, 24078.094 ,  8638.4795, 21402.07  ,\n",
       "       12477.486 ,  5191.853 , 10590.892 ,  6423.7383, 38161.6   ,\n",
       "       40243.766 , 10403.019 ,  9125.138 ,  4746.357 ,  5694.285 ,\n",
       "       46569.137 , 11563.262 , 10552.967 , 10721.794 , 20388.594 ,\n",
       "        2671.2478,  2830.5525,  7213.3394,  8314.779 , 11110.311 ,\n",
       "       10555.925 , 18523.035 , 10590.892 , 11046.878 , 13808.479 ,\n",
       "        6010.946 , 50347.656 ,  6735.0337,  4037.5815,  6031.94  ,\n",
       "       11310.105 ,  6115.326 ,  9648.679 ,  6740.6743,  8110.224 ,\n",
       "        6739.711 , 11749.872 , 20687.832 ,  3031.6165,  7881.589 ,\n",
       "       18157.186 ,  6243.715 ,  3852.8645,  9474.9795, 11282.768 ,\n",
       "        7325.136 , 20234.512 ,  3102.8174,  4915.4443,  5139.3716,\n",
       "       10508.28  , 11797.925 ,  5164.7344, 38127.19  , 11741.356 ,\n",
       "       13000.812 , 24041.418 ,  6062.926 ,  5938.872 ,  7529.7935,\n",
       "       19026.727 , 12074.941 ,  7539.9688, 11304.121 ,  7189.0503,\n",
       "       20807.121 ,  6113.471 ,  6823.0566,  6722.7974,  5735.8887,\n",
       "        6157.0757,  5700.6157,  6001.8193, 17497.895 , 44858.64  ,\n",
       "       27566.572 ,  6507.3125,  4952.8774, 32717.414 , 11354.39  ,\n",
       "       11975.837 ,  6474.8823,  8317.365 , 26033.309 ,  4907.9263,\n",
       "        1990.6711, 10579.374 ,  5432.852 , 23489.947 , 10104.604 ,\n",
       "        4767.9062, 10930.498 ,  6604.1567, 11373.975 , 46686.8   ,\n",
       "       42204.73  ,  7425.272 ,  8265.639 ,  9516.32  ,  9371.231 ,\n",
       "        8351.253 ,  4403.12  ,  9454.025 ,  4091.016 , 10405.663 ,\n",
       "       11291.746 ,  7578.401 , 20434.344 ,  7068.119 , 41476.797 ,\n",
       "       18411.598 , 17557.775 , 12353.107 , 12994.015 ,  6010.3613,\n",
       "       12601.227 , 28228.232 ,  6665.1465, 45839.77  , 10590.892 ,\n",
       "       21505.742 , 10535.723 , 11110.311 ,  4775.201 ,  4959.173 ,\n",
       "       16133.7295, 10674.463 ,  6934.577 ,  6815.869 , 11973.476 ,\n",
       "        8070.2983,  5977.0317, 11899.101 ,  8204.968 , 15045.976 ,\n",
       "        8733.129 ,  4880.7246, 11067.077 ,  7539.9688, 24849.398 ,\n",
       "        5303.3257, 10257.536 , 12418.946 , 10922.719 , 17236.375 ,\n",
       "        6154.5396, 13236.872 ,  7504.66  , 22534.469 ,  6398.4316,\n",
       "        8079.066 ,  7558.046 ,  7806.1143, 35630.934 , 44528.445 ,\n",
       "       10651.284 ,  9297.137 ,  5982.1626,  4942.9097, 10281.943 ,\n",
       "       20959.121 , 10664.58  , 11687.138 ,  4038.4873, 11064.165 ,\n",
       "        1868.972 , 31928.346 , 18998.867 , 10368.842 ,  4315.8086,\n",
       "       11874.901 ,  5638.2783, 10665.117 , 13428.107 , 20423.566 ,\n",
       "       11887.5625, 36015.832 , 11805.584 ,  8592.221 ,  5040.086 ,\n",
       "       22106.807 , 46070.887 , 17560.055 ,  2410.7659,  7947.078 ,\n",
       "        9320.3545, 24120.156 , 46331.438 , 19972.846 ,  6726.1006,\n",
       "       23602.09  ,  9331.611 ,  8271.186 , 40577.184 , 14425.078 ,\n",
       "        8660.28  ,  3639.5269, 24005.29  , 23777.531 , 12913.706 ,\n",
       "        7851.481 , 40507.336 ,  8855.264 , 34352.69  ,  7572.669 ,\n",
       "        2037.591 ,  1939.8462,  7691.1064, 12677.971 , 12086.118 ,\n",
       "        6568.011 , 41540.06  ,  4817.9004,  7675.536 ,  3090.999 ,\n",
       "       18191.594 , 11123.655 ,  5598.3975, 11628.889 , 11089.567 ,\n",
       "        6273.709 , 18187.059 ,  4867.6255, 10281.251 ,  4759.395 ,\n",
       "        7323.3975,  7038.474 , 11110.311 ,  9350.617 , 19240.088 ,\n",
       "        4524.166 ,  8351.253 ,  3364.4465, 10480.497 , 40273.805 ,\n",
       "        6806.7173, 10863.542 ,  5847.535 ,  6031.94  , 11625.326 ,\n",
       "        6779.306 ,  7646.717 ,  7940.4185,  4942.9097,  6374.5386,\n",
       "       40462.605 , 13426.097 , 15348.901 ,  4960.997 ,  6079.273 ,\n",
       "        4203.315 ,  4983.655 ,  6103.6313,  7690.1167, 14150.464 ,\n",
       "        3648.8513, 12067.137 , 39280.21  ,  5539.9956, 22742.01  ,\n",
       "        2364.0764,  6444.7197, 12948.833 , 44824.633 ,  9324.357 ,\n",
       "        9377.315 , 42365.117 ,  6910.5156,  4866.7954,  1987.6912,\n",
       "        9423.037 ,  5120.771 , 14313.399 , 10171.922 , 12260.563 ,\n",
       "        4534.373 , 25236.75  , 16332.17  ,  8526.739 , 11709.441 ,\n",
       "       11123.655 , 10926.664 , 12485.107 ,  4606.822 ,  3205.449 ,\n",
       "       19667.252 , 40113.27  ,  6277.7773, 10961.382 ,  6482.1616,\n",
       "        4954.349 ,  7007.579 , 41075.996 , 41324.3   , 28883.834 ,\n",
       "        2281.978 , 41723.195 , 19240.088 , 11747.695 , 10976.737 ,\n",
       "       35799.594 ], dtype=float32)"
      ]
     },
     "execution_count": 47,
     "metadata": {},
     "output_type": "execute_result"
    }
   ],
   "source": [
    "final_pred"
   ]
  },
  {
   "cell_type": "code",
   "execution_count": 170,
   "id": "a64ca8e4",
   "metadata": {},
   "outputs": [],
   "source": [
    "submission = pd.DataFrame(final_pred)"
   ]
  },
  {
   "cell_type": "code",
   "execution_count": 171,
   "id": "dd4acff9",
   "metadata": {},
   "outputs": [],
   "source": [
    "submission.to_csv(\"C9106.csv\", index =False )"
   ]
  },
  {
   "cell_type": "code",
   "execution_count": null,
   "id": "9a5763ef",
   "metadata": {},
   "outputs": [],
   "source": []
  }
 ],
 "metadata": {
  "kernelspec": {
   "display_name": "Python 3 (ipykernel)",
   "language": "python",
   "name": "python3"
  },
  "language_info": {
   "codemirror_mode": {
    "name": "ipython",
    "version": 3
   },
   "file_extension": ".py",
   "mimetype": "text/x-python",
   "name": "python",
   "nbconvert_exporter": "python",
   "pygments_lexer": "ipython3",
   "version": "3.8.12"
  }
 },
 "nbformat": 4,
 "nbformat_minor": 5
}
